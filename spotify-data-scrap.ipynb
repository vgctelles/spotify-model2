{
  "metadata": {
    "kernelspec": {
      "language": "python",
      "display_name": "Python 3",
      "name": "python3"
    },
    "language_info": {
      "name": "python",
      "version": "3.7.12",
      "mimetype": "text/x-python",
      "codemirror_mode": {
        "name": "ipython",
        "version": 3
      },
      "pygments_lexer": "ipython3",
      "nbconvert_exporter": "python",
      "file_extension": ".py"
    },
    "colab": {
      "name": "spotify-data-scrap.ipynb",
      "provenance": [],
      "include_colab_link": true
    }
  },
  "nbformat_minor": 0,
  "nbformat": 4,
  "cells": [
    {
      "cell_type": "markdown",
      "metadata": {
        "id": "view-in-github",
        "colab_type": "text"
      },
      "source": [
        "<a href=\"https://colab.research.google.com/github/vgctelles/spotify-model2/blob/main/spotify-data-scrap.ipynb\" target=\"_parent\"><img src=\"https://colab.research.google.com/assets/colab-badge.svg\" alt=\"Open In Colab\"/></a>"
      ]
    },
    {
      "cell_type": "code",
      "source": [
        "pip install spotipy"
      ],
      "metadata": {
        "id": "OE4UmPk_Drnb",
        "execution": {
          "iopub.status.busy": "2022-06-12T18:32:11.316513Z",
          "iopub.execute_input": "2022-06-12T18:32:11.316860Z",
          "iopub.status.idle": "2022-06-12T18:32:21.871452Z",
          "shell.execute_reply.started": "2022-06-12T18:32:11.316827Z",
          "shell.execute_reply": "2022-06-12T18:32:21.870280Z"
        },
        "trusted": true,
        "outputId": "46c9dde0-1945-43a7-f5b4-51daea12e901",
        "colab": {
          "base_uri": "https://localhost:8080/"
        }
      },
      "execution_count": 1,
      "outputs": [
        {
          "output_type": "stream",
          "name": "stdout",
          "text": [
            "Looking in indexes: https://pypi.org/simple, https://us-python.pkg.dev/colab-wheels/public/simple/\n",
            "Collecting spotipy\n",
            "  Downloading spotipy-2.19.0-py3-none-any.whl (27 kB)\n",
            "Collecting requests>=2.25.0\n",
            "  Downloading requests-2.28.0-py3-none-any.whl (62 kB)\n",
            "\u001b[K     |████████████████████████████████| 62 kB 1.8 MB/s \n",
            "\u001b[?25hCollecting urllib3>=1.26.0\n",
            "  Downloading urllib3-1.26.9-py2.py3-none-any.whl (138 kB)\n",
            "\u001b[K     |████████████████████████████████| 138 kB 62.2 MB/s \n",
            "\u001b[?25hRequirement already satisfied: six>=1.15.0 in /usr/local/lib/python3.7/dist-packages (from spotipy) (1.15.0)\n",
            "Requirement already satisfied: charset-normalizer~=2.0.0 in /usr/local/lib/python3.7/dist-packages (from requests>=2.25.0->spotipy) (2.0.12)\n",
            "Requirement already satisfied: idna<4,>=2.5 in /usr/local/lib/python3.7/dist-packages (from requests>=2.25.0->spotipy) (2.10)\n",
            "Requirement already satisfied: certifi>=2017.4.17 in /usr/local/lib/python3.7/dist-packages (from requests>=2.25.0->spotipy) (2022.5.18.1)\n",
            "Installing collected packages: urllib3, requests, spotipy\n",
            "  Attempting uninstall: urllib3\n",
            "    Found existing installation: urllib3 1.24.3\n",
            "    Uninstalling urllib3-1.24.3:\n",
            "      Successfully uninstalled urllib3-1.24.3\n",
            "  Attempting uninstall: requests\n",
            "    Found existing installation: requests 2.23.0\n",
            "    Uninstalling requests-2.23.0:\n",
            "      Successfully uninstalled requests-2.23.0\n",
            "\u001b[31mERROR: pip's dependency resolver does not currently take into account all the packages that are installed. This behaviour is the source of the following dependency conflicts.\n",
            "google-colab 1.0.0 requires requests~=2.23.0, but you have requests 2.28.0 which is incompatible.\n",
            "datascience 0.10.6 requires folium==0.2.1, but you have folium 0.8.3 which is incompatible.\u001b[0m\n",
            "Successfully installed requests-2.28.0 spotipy-2.19.0 urllib3-1.26.9\n"
          ]
        }
      ]
    },
    {
      "cell_type": "code",
      "source": [
        "import pandas as pd\n",
        "import spotipy\n",
        "\n",
        "from spotipy.oauth2 import SpotifyClientCredentials\n",
        "from spotipy.oauth2 import SpotifyOAuth\n"
      ],
      "metadata": {
        "id": "xIrRTClXDcsC",
        "execution": {
          "iopub.status.busy": "2022-06-12T19:50:55.884205Z",
          "iopub.execute_input": "2022-06-12T19:50:55.884944Z",
          "iopub.status.idle": "2022-06-12T19:50:55.889304Z",
          "shell.execute_reply.started": "2022-06-12T19:50:55.884912Z",
          "shell.execute_reply": "2022-06-12T19:50:55.888356Z"
        },
        "trusted": true
      },
      "execution_count": 17,
      "outputs": []
    },
    {
      "cell_type": "code",
      "source": [
        "CLIENT_ID = 'dcdbc364b650420ba00c3fbcca957a4f'\n",
        "CLIENT_SECRET = '381f0fa966784f4e92b37134958856d4'\n",
        "SPOTIPY_REDIRECT_URI ='http://localhost:8000'\n",
        "#SPOTIPY_REDIRECT_URI = 'http://localhost/'\n",
        "#REDIRECT_URL = 'http://127.0.0.1:9090'\n",
        "SCOPE = \"user-library-read\""
      ],
      "metadata": {
        "id": "1VlU3Z_qDixM",
        "execution": {
          "iopub.status.busy": "2022-06-12T20:11:42.193130Z",
          "iopub.execute_input": "2022-06-12T20:11:42.193699Z",
          "iopub.status.idle": "2022-06-12T20:11:42.198626Z",
          "shell.execute_reply.started": "2022-06-12T20:11:42.193655Z",
          "shell.execute_reply": "2022-06-12T20:11:42.197841Z"
        },
        "trusted": true
      },
      "execution_count": 18,
      "outputs": []
    },
    {
      "cell_type": "code",
      "source": [
        "client_credentials_manager = SpotifyClientCredentials(client_id=CLIENT_ID, client_secret=CLIENT_SECRET)\n",
        "sp = spotipy.Spotify( client_credentials_manager=client_credentials_manager)"
      ],
      "metadata": {
        "id": "wTFo_ysPDpIO",
        "execution": {
          "iopub.status.busy": "2022-06-12T19:45:15.146675Z",
          "iopub.execute_input": "2022-06-12T19:45:15.147364Z",
          "iopub.status.idle": "2022-06-12T19:45:15.151629Z",
          "shell.execute_reply.started": "2022-06-12T19:45:15.147329Z",
          "shell.execute_reply": "2022-06-12T19:45:15.150884Z"
        },
        "trusted": true
      },
      "execution_count": 4,
      "outputs": []
    },
    {
      "cell_type": "code",
      "source": [
        "#test 1000 data scrap\n",
        "\n",
        "artist_name = []\n",
        "track_name = []\n",
        "track_popularity = []\n",
        "track_explicity = []\n",
        "artist_id = []\n",
        "track_id = []\n",
        "album_name = []\n",
        "album_id = []\n",
        "        #range(start, stop, step)\n",
        "for i in range(0,1000,50):\n",
        "    track_results = sp.search(q='year:2021', type='track', limit=50, market = 'BR', offset=i)\n",
        "    for i, t in enumerate(track_results['tracks']['items']):\n",
        "        album_name.append(t['album']['name'])\n",
        "        album_id.append(t['album']['id'])\n",
        "        artist_name.append(t['artists'][0]['name'])\n",
        "        artist_id.append(t['artists'][0]['id'])\n",
        "        track_name.append(t['name'])\n",
        "        track_id.append(t['id'])\n",
        "        track_popularity.append(t['popularity'])\n",
        "        track_explicity.append(t['explicit'])"
      ],
      "metadata": {
        "id": "KgyBDZ5RFCdJ",
        "execution": {
          "iopub.status.busy": "2022-06-12T18:35:36.813828Z",
          "iopub.execute_input": "2022-06-12T18:35:36.814230Z",
          "iopub.status.idle": "2022-06-12T18:35:44.590390Z",
          "shell.execute_reply.started": "2022-06-12T18:35:36.814198Z",
          "shell.execute_reply": "2022-06-12T18:35:44.589662Z"
        },
        "trusted": true
      },
      "execution_count": 5,
      "outputs": []
    },
    {
      "cell_type": "code",
      "source": [
        "track_df = pd.DataFrame({'album_name' : album_name,'artist_name' : artist_name, 'track_name' : track_name, 'track_id' : track_id, 'track_popularity' : track_popularity, 'explicit' : track_explicity, 'artist_id' : artist_id})\n",
        "print(track_df.shape)"
      ],
      "metadata": {
        "id": "0UXUyECOFFOI",
        "outputId": "7484f6ac-c484-4610-8b4d-806074259229",
        "execution": {
          "iopub.status.busy": "2022-06-12T18:39:08.148911Z",
          "iopub.execute_input": "2022-06-12T18:39:08.149592Z",
          "iopub.status.idle": "2022-06-12T18:39:08.160940Z",
          "shell.execute_reply.started": "2022-06-12T18:39:08.149556Z",
          "shell.execute_reply": "2022-06-12T18:39:08.160061Z"
        },
        "trusted": true,
        "colab": {
          "base_uri": "https://localhost:8080/"
        }
      },
      "execution_count": 6,
      "outputs": [
        {
          "output_type": "stream",
          "name": "stdout",
          "text": [
            "(1000, 7)\n"
          ]
        }
      ]
    },
    {
      "cell_type": "code",
      "source": [
        "track_df.head()"
      ],
      "metadata": {
        "id": "t1IDfMVOHCYR",
        "outputId": "81a6888a-ce42-4535-da34-c3bb595ae400",
        "execution": {
          "iopub.status.busy": "2022-06-12T18:39:24.336396Z",
          "iopub.execute_input": "2022-06-12T18:39:24.336762Z",
          "iopub.status.idle": "2022-06-12T18:39:24.359431Z",
          "shell.execute_reply.started": "2022-06-12T18:39:24.336732Z",
          "shell.execute_reply": "2022-06-12T18:39:24.358402Z"
        },
        "trusted": true,
        "colab": {
          "base_uri": "https://localhost:8080/",
          "height": 285
        }
      },
      "execution_count": 7,
      "outputs": [
        {
          "output_type": "execute_result",
          "data": {
            "text/plain": [
              "                                          album_name  \\\n",
              "0                                 Molhando o Volante   \n",
              "1  Merry Christmas and Happy New Year 2021 (Radio...   \n",
              "2                                         Malvadão 3   \n",
              "3                             Lofi Fruits Music 2021   \n",
              "4                                Vai Lá Em Casa Hoje   \n",
              "\n",
              "                 artist_name  \\\n",
              "0             Jorge & Mateus   \n",
              "1                  Dj Biffen   \n",
              "2                       Xamã   \n",
              "3          Lofi Fruits Music   \n",
              "4  George Henrique & Rodrigo   \n",
              "\n",
              "                                          track_name                track_id  \\\n",
              "0                                 Molhando o Volante  3ITkrUvAA6gzxer2UIom3P   \n",
              "1  Merry Christmas and Happy New Year 2021 - Radi...  7h7yPyss4MIBVPXVeF83vg   \n",
              "2                                         Malvadão 3  0NBgyml7T0IvUNbXIkcSpH   \n",
              "3                                            7 Years  2JjwQsLvMknwKhMRbdC7Mb   \n",
              "4                                Vai Lá Em Casa Hoje  2wSCalnGOnXdAJC0Fn8OUY   \n",
              "\n",
              "   track_popularity  explicit               artist_id  \n",
              "0                82     False  1elUiq4X7pxej6FRlrEzjM  \n",
              "1                23      True  7K54lZmkO9dwqe22N27ftb  \n",
              "2                82     False  5YwzDz4RJfTiMHS4tdR5Lf  \n",
              "3                52     False  1dABGukgZ8XKKOdd2rVSHM  \n",
              "4                81     False  3FlCKtwOEYQQYyGVEbxG2Z  "
            ],
            "text/html": [
              "\n",
              "  <div id=\"df-43c3467c-4330-4dfc-8b7f-7985fdf20c96\">\n",
              "    <div class=\"colab-df-container\">\n",
              "      <div>\n",
              "<style scoped>\n",
              "    .dataframe tbody tr th:only-of-type {\n",
              "        vertical-align: middle;\n",
              "    }\n",
              "\n",
              "    .dataframe tbody tr th {\n",
              "        vertical-align: top;\n",
              "    }\n",
              "\n",
              "    .dataframe thead th {\n",
              "        text-align: right;\n",
              "    }\n",
              "</style>\n",
              "<table border=\"1\" class=\"dataframe\">\n",
              "  <thead>\n",
              "    <tr style=\"text-align: right;\">\n",
              "      <th></th>\n",
              "      <th>album_name</th>\n",
              "      <th>artist_name</th>\n",
              "      <th>track_name</th>\n",
              "      <th>track_id</th>\n",
              "      <th>track_popularity</th>\n",
              "      <th>explicit</th>\n",
              "      <th>artist_id</th>\n",
              "    </tr>\n",
              "  </thead>\n",
              "  <tbody>\n",
              "    <tr>\n",
              "      <th>0</th>\n",
              "      <td>Molhando o Volante</td>\n",
              "      <td>Jorge &amp; Mateus</td>\n",
              "      <td>Molhando o Volante</td>\n",
              "      <td>3ITkrUvAA6gzxer2UIom3P</td>\n",
              "      <td>82</td>\n",
              "      <td>False</td>\n",
              "      <td>1elUiq4X7pxej6FRlrEzjM</td>\n",
              "    </tr>\n",
              "    <tr>\n",
              "      <th>1</th>\n",
              "      <td>Merry Christmas and Happy New Year 2021 (Radio...</td>\n",
              "      <td>Dj Biffen</td>\n",
              "      <td>Merry Christmas and Happy New Year 2021 - Radi...</td>\n",
              "      <td>7h7yPyss4MIBVPXVeF83vg</td>\n",
              "      <td>23</td>\n",
              "      <td>True</td>\n",
              "      <td>7K54lZmkO9dwqe22N27ftb</td>\n",
              "    </tr>\n",
              "    <tr>\n",
              "      <th>2</th>\n",
              "      <td>Malvadão 3</td>\n",
              "      <td>Xamã</td>\n",
              "      <td>Malvadão 3</td>\n",
              "      <td>0NBgyml7T0IvUNbXIkcSpH</td>\n",
              "      <td>82</td>\n",
              "      <td>False</td>\n",
              "      <td>5YwzDz4RJfTiMHS4tdR5Lf</td>\n",
              "    </tr>\n",
              "    <tr>\n",
              "      <th>3</th>\n",
              "      <td>Lofi Fruits Music 2021</td>\n",
              "      <td>Lofi Fruits Music</td>\n",
              "      <td>7 Years</td>\n",
              "      <td>2JjwQsLvMknwKhMRbdC7Mb</td>\n",
              "      <td>52</td>\n",
              "      <td>False</td>\n",
              "      <td>1dABGukgZ8XKKOdd2rVSHM</td>\n",
              "    </tr>\n",
              "    <tr>\n",
              "      <th>4</th>\n",
              "      <td>Vai Lá Em Casa Hoje</td>\n",
              "      <td>George Henrique &amp; Rodrigo</td>\n",
              "      <td>Vai Lá Em Casa Hoje</td>\n",
              "      <td>2wSCalnGOnXdAJC0Fn8OUY</td>\n",
              "      <td>81</td>\n",
              "      <td>False</td>\n",
              "      <td>3FlCKtwOEYQQYyGVEbxG2Z</td>\n",
              "    </tr>\n",
              "  </tbody>\n",
              "</table>\n",
              "</div>\n",
              "      <button class=\"colab-df-convert\" onclick=\"convertToInteractive('df-43c3467c-4330-4dfc-8b7f-7985fdf20c96')\"\n",
              "              title=\"Convert this dataframe to an interactive table.\"\n",
              "              style=\"display:none;\">\n",
              "        \n",
              "  <svg xmlns=\"http://www.w3.org/2000/svg\" height=\"24px\"viewBox=\"0 0 24 24\"\n",
              "       width=\"24px\">\n",
              "    <path d=\"M0 0h24v24H0V0z\" fill=\"none\"/>\n",
              "    <path d=\"M18.56 5.44l.94 2.06.94-2.06 2.06-.94-2.06-.94-.94-2.06-.94 2.06-2.06.94zm-11 1L8.5 8.5l.94-2.06 2.06-.94-2.06-.94L8.5 2.5l-.94 2.06-2.06.94zm10 10l.94 2.06.94-2.06 2.06-.94-2.06-.94-.94-2.06-.94 2.06-2.06.94z\"/><path d=\"M17.41 7.96l-1.37-1.37c-.4-.4-.92-.59-1.43-.59-.52 0-1.04.2-1.43.59L10.3 9.45l-7.72 7.72c-.78.78-.78 2.05 0 2.83L4 21.41c.39.39.9.59 1.41.59.51 0 1.02-.2 1.41-.59l7.78-7.78 2.81-2.81c.8-.78.8-2.07 0-2.86zM5.41 20L4 18.59l7.72-7.72 1.47 1.35L5.41 20z\"/>\n",
              "  </svg>\n",
              "      </button>\n",
              "      \n",
              "  <style>\n",
              "    .colab-df-container {\n",
              "      display:flex;\n",
              "      flex-wrap:wrap;\n",
              "      gap: 12px;\n",
              "    }\n",
              "\n",
              "    .colab-df-convert {\n",
              "      background-color: #E8F0FE;\n",
              "      border: none;\n",
              "      border-radius: 50%;\n",
              "      cursor: pointer;\n",
              "      display: none;\n",
              "      fill: #1967D2;\n",
              "      height: 32px;\n",
              "      padding: 0 0 0 0;\n",
              "      width: 32px;\n",
              "    }\n",
              "\n",
              "    .colab-df-convert:hover {\n",
              "      background-color: #E2EBFA;\n",
              "      box-shadow: 0px 1px 2px rgba(60, 64, 67, 0.3), 0px 1px 3px 1px rgba(60, 64, 67, 0.15);\n",
              "      fill: #174EA6;\n",
              "    }\n",
              "\n",
              "    [theme=dark] .colab-df-convert {\n",
              "      background-color: #3B4455;\n",
              "      fill: #D2E3FC;\n",
              "    }\n",
              "\n",
              "    [theme=dark] .colab-df-convert:hover {\n",
              "      background-color: #434B5C;\n",
              "      box-shadow: 0px 1px 3px 1px rgba(0, 0, 0, 0.15);\n",
              "      filter: drop-shadow(0px 1px 2px rgba(0, 0, 0, 0.3));\n",
              "      fill: #FFFFFF;\n",
              "    }\n",
              "  </style>\n",
              "\n",
              "      <script>\n",
              "        const buttonEl =\n",
              "          document.querySelector('#df-43c3467c-4330-4dfc-8b7f-7985fdf20c96 button.colab-df-convert');\n",
              "        buttonEl.style.display =\n",
              "          google.colab.kernel.accessAllowed ? 'block' : 'none';\n",
              "\n",
              "        async function convertToInteractive(key) {\n",
              "          const element = document.querySelector('#df-43c3467c-4330-4dfc-8b7f-7985fdf20c96');\n",
              "          const dataTable =\n",
              "            await google.colab.kernel.invokeFunction('convertToInteractive',\n",
              "                                                     [key], {});\n",
              "          if (!dataTable) return;\n",
              "\n",
              "          const docLinkHtml = 'Like what you see? Visit the ' +\n",
              "            '<a target=\"_blank\" href=https://colab.research.google.com/notebooks/data_table.ipynb>data table notebook</a>'\n",
              "            + ' to learn more about interactive tables.';\n",
              "          element.innerHTML = '';\n",
              "          dataTable['output_type'] = 'display_data';\n",
              "          await google.colab.output.renderOutput(dataTable, element);\n",
              "          const docLink = document.createElement('div');\n",
              "          docLink.innerHTML = docLinkHtml;\n",
              "          element.appendChild(docLink);\n",
              "        }\n",
              "      </script>\n",
              "    </div>\n",
              "  </div>\n",
              "  "
            ]
          },
          "metadata": {},
          "execution_count": 7
        }
      ]
    },
    {
      "cell_type": "code",
      "source": [
        "track_df.count()"
      ],
      "metadata": {
        "id": "tK3b7gLcHJol",
        "execution": {
          "iopub.status.busy": "2022-06-12T18:39:33.689639Z",
          "iopub.execute_input": "2022-06-12T18:39:33.690676Z",
          "iopub.status.idle": "2022-06-12T18:39:33.704749Z",
          "shell.execute_reply.started": "2022-06-12T18:39:33.690624Z",
          "shell.execute_reply": "2022-06-12T18:39:33.703677Z"
        },
        "trusted": true,
        "outputId": "a8cf7ba0-9383-424d-849b-f707461cd81b",
        "colab": {
          "base_uri": "https://localhost:8080/"
        }
      },
      "execution_count": 8,
      "outputs": [
        {
          "output_type": "execute_result",
          "data": {
            "text/plain": [
              "album_name          1000\n",
              "artist_name         1000\n",
              "track_name          1000\n",
              "track_id            1000\n",
              "track_popularity    1000\n",
              "explicit            1000\n",
              "artist_id           1000\n",
              "dtype: int64"
            ]
          },
          "metadata": {},
          "execution_count": 8
        }
      ]
    },
    {
      "cell_type": "code",
      "source": [
        "artist_popularity = []\n",
        "artist_genres = []\n",
        "artist_followers = []\n",
        "for a_id in track_df.artist_id:\n",
        "  artist = sp.artist(a_id)\n",
        "  artist_popularity.append(artist['popularity'])\n",
        "  artist_genres.append(artist['genres'])\n",
        "  artist_followers.append(artist['followers']['total'])"
      ],
      "metadata": {
        "execution": {
          "iopub.status.busy": "2022-06-12T18:39:36.418196Z",
          "iopub.execute_input": "2022-06-12T18:39:36.418606Z",
          "iopub.status.idle": "2022-06-12T18:41:09.678122Z",
          "shell.execute_reply.started": "2022-06-12T18:39:36.418574Z",
          "shell.execute_reply": "2022-06-12T18:41:09.677294Z"
        },
        "trusted": true,
        "id": "q6GJdJ1vqMT0"
      },
      "execution_count": 9,
      "outputs": []
    },
    {
      "cell_type": "code",
      "source": [
        "track_df = track_df.assign(artist_popularity=artist_popularity, artist_genres=artist_genres, artist_followers=artist_followers)\n",
        "track_df.head()"
      ],
      "metadata": {
        "execution": {
          "iopub.status.busy": "2022-06-12T18:41:15.624981Z",
          "iopub.execute_input": "2022-06-12T18:41:15.625386Z",
          "iopub.status.idle": "2022-06-12T18:41:15.647782Z",
          "shell.execute_reply.started": "2022-06-12T18:41:15.625357Z",
          "shell.execute_reply": "2022-06-12T18:41:15.647126Z"
        },
        "trusted": true,
        "id": "gejiiGyrqMT0",
        "outputId": "26e3b3f8-b6f1-466d-dc5b-33d98613a2d1",
        "colab": {
          "base_uri": "https://localhost:8080/",
          "height": 531
        }
      },
      "execution_count": 10,
      "outputs": [
        {
          "output_type": "execute_result",
          "data": {
            "text/plain": [
              "                                          album_name  \\\n",
              "0                                 Molhando o Volante   \n",
              "1  Merry Christmas and Happy New Year 2021 (Radio...   \n",
              "2                                         Malvadão 3   \n",
              "3                             Lofi Fruits Music 2021   \n",
              "4                                Vai Lá Em Casa Hoje   \n",
              "\n",
              "                 artist_name  \\\n",
              "0             Jorge & Mateus   \n",
              "1                  Dj Biffen   \n",
              "2                       Xamã   \n",
              "3          Lofi Fruits Music   \n",
              "4  George Henrique & Rodrigo   \n",
              "\n",
              "                                          track_name                track_id  \\\n",
              "0                                 Molhando o Volante  3ITkrUvAA6gzxer2UIom3P   \n",
              "1  Merry Christmas and Happy New Year 2021 - Radi...  7h7yPyss4MIBVPXVeF83vg   \n",
              "2                                         Malvadão 3  0NBgyml7T0IvUNbXIkcSpH   \n",
              "3                                            7 Years  2JjwQsLvMknwKhMRbdC7Mb   \n",
              "4                                Vai Lá Em Casa Hoje  2wSCalnGOnXdAJC0Fn8OUY   \n",
              "\n",
              "   track_popularity  explicit               artist_id  artist_popularity  \\\n",
              "0                82     False  1elUiq4X7pxej6FRlrEzjM                 79   \n",
              "1                23      True  7K54lZmkO9dwqe22N27ftb                 17   \n",
              "2                82     False  5YwzDz4RJfTiMHS4tdR5Lf                 73   \n",
              "3                52     False  1dABGukgZ8XKKOdd2rVSHM                 74   \n",
              "4                81     False  3FlCKtwOEYQQYyGVEbxG2Z                 67   \n",
              "\n",
              "                                       artist_genres  artist_followers  \n",
              "0      [arrocha, sertanejo, sertanejo universitario]          16728862  \n",
              "1                                                 []                26  \n",
              "2  [brazilian hip hop, funk carioca, trap brasile...           1690059  \n",
              "3                       [lo-fi cover, lo-fi product]            534824  \n",
              "4  [arrocha, sertanejo, sertanejo pop, sertanejo ...           1341031  "
            ],
            "text/html": [
              "\n",
              "  <div id=\"df-ed3586b9-3e65-4b8e-83f4-268f736bc317\">\n",
              "    <div class=\"colab-df-container\">\n",
              "      <div>\n",
              "<style scoped>\n",
              "    .dataframe tbody tr th:only-of-type {\n",
              "        vertical-align: middle;\n",
              "    }\n",
              "\n",
              "    .dataframe tbody tr th {\n",
              "        vertical-align: top;\n",
              "    }\n",
              "\n",
              "    .dataframe thead th {\n",
              "        text-align: right;\n",
              "    }\n",
              "</style>\n",
              "<table border=\"1\" class=\"dataframe\">\n",
              "  <thead>\n",
              "    <tr style=\"text-align: right;\">\n",
              "      <th></th>\n",
              "      <th>album_name</th>\n",
              "      <th>artist_name</th>\n",
              "      <th>track_name</th>\n",
              "      <th>track_id</th>\n",
              "      <th>track_popularity</th>\n",
              "      <th>explicit</th>\n",
              "      <th>artist_id</th>\n",
              "      <th>artist_popularity</th>\n",
              "      <th>artist_genres</th>\n",
              "      <th>artist_followers</th>\n",
              "    </tr>\n",
              "  </thead>\n",
              "  <tbody>\n",
              "    <tr>\n",
              "      <th>0</th>\n",
              "      <td>Molhando o Volante</td>\n",
              "      <td>Jorge &amp; Mateus</td>\n",
              "      <td>Molhando o Volante</td>\n",
              "      <td>3ITkrUvAA6gzxer2UIom3P</td>\n",
              "      <td>82</td>\n",
              "      <td>False</td>\n",
              "      <td>1elUiq4X7pxej6FRlrEzjM</td>\n",
              "      <td>79</td>\n",
              "      <td>[arrocha, sertanejo, sertanejo universitario]</td>\n",
              "      <td>16728862</td>\n",
              "    </tr>\n",
              "    <tr>\n",
              "      <th>1</th>\n",
              "      <td>Merry Christmas and Happy New Year 2021 (Radio...</td>\n",
              "      <td>Dj Biffen</td>\n",
              "      <td>Merry Christmas and Happy New Year 2021 - Radi...</td>\n",
              "      <td>7h7yPyss4MIBVPXVeF83vg</td>\n",
              "      <td>23</td>\n",
              "      <td>True</td>\n",
              "      <td>7K54lZmkO9dwqe22N27ftb</td>\n",
              "      <td>17</td>\n",
              "      <td>[]</td>\n",
              "      <td>26</td>\n",
              "    </tr>\n",
              "    <tr>\n",
              "      <th>2</th>\n",
              "      <td>Malvadão 3</td>\n",
              "      <td>Xamã</td>\n",
              "      <td>Malvadão 3</td>\n",
              "      <td>0NBgyml7T0IvUNbXIkcSpH</td>\n",
              "      <td>82</td>\n",
              "      <td>False</td>\n",
              "      <td>5YwzDz4RJfTiMHS4tdR5Lf</td>\n",
              "      <td>73</td>\n",
              "      <td>[brazilian hip hop, funk carioca, trap brasile...</td>\n",
              "      <td>1690059</td>\n",
              "    </tr>\n",
              "    <tr>\n",
              "      <th>3</th>\n",
              "      <td>Lofi Fruits Music 2021</td>\n",
              "      <td>Lofi Fruits Music</td>\n",
              "      <td>7 Years</td>\n",
              "      <td>2JjwQsLvMknwKhMRbdC7Mb</td>\n",
              "      <td>52</td>\n",
              "      <td>False</td>\n",
              "      <td>1dABGukgZ8XKKOdd2rVSHM</td>\n",
              "      <td>74</td>\n",
              "      <td>[lo-fi cover, lo-fi product]</td>\n",
              "      <td>534824</td>\n",
              "    </tr>\n",
              "    <tr>\n",
              "      <th>4</th>\n",
              "      <td>Vai Lá Em Casa Hoje</td>\n",
              "      <td>George Henrique &amp; Rodrigo</td>\n",
              "      <td>Vai Lá Em Casa Hoje</td>\n",
              "      <td>2wSCalnGOnXdAJC0Fn8OUY</td>\n",
              "      <td>81</td>\n",
              "      <td>False</td>\n",
              "      <td>3FlCKtwOEYQQYyGVEbxG2Z</td>\n",
              "      <td>67</td>\n",
              "      <td>[arrocha, sertanejo, sertanejo pop, sertanejo ...</td>\n",
              "      <td>1341031</td>\n",
              "    </tr>\n",
              "  </tbody>\n",
              "</table>\n",
              "</div>\n",
              "      <button class=\"colab-df-convert\" onclick=\"convertToInteractive('df-ed3586b9-3e65-4b8e-83f4-268f736bc317')\"\n",
              "              title=\"Convert this dataframe to an interactive table.\"\n",
              "              style=\"display:none;\">\n",
              "        \n",
              "  <svg xmlns=\"http://www.w3.org/2000/svg\" height=\"24px\"viewBox=\"0 0 24 24\"\n",
              "       width=\"24px\">\n",
              "    <path d=\"M0 0h24v24H0V0z\" fill=\"none\"/>\n",
              "    <path d=\"M18.56 5.44l.94 2.06.94-2.06 2.06-.94-2.06-.94-.94-2.06-.94 2.06-2.06.94zm-11 1L8.5 8.5l.94-2.06 2.06-.94-2.06-.94L8.5 2.5l-.94 2.06-2.06.94zm10 10l.94 2.06.94-2.06 2.06-.94-2.06-.94-.94-2.06-.94 2.06-2.06.94z\"/><path d=\"M17.41 7.96l-1.37-1.37c-.4-.4-.92-.59-1.43-.59-.52 0-1.04.2-1.43.59L10.3 9.45l-7.72 7.72c-.78.78-.78 2.05 0 2.83L4 21.41c.39.39.9.59 1.41.59.51 0 1.02-.2 1.41-.59l7.78-7.78 2.81-2.81c.8-.78.8-2.07 0-2.86zM5.41 20L4 18.59l7.72-7.72 1.47 1.35L5.41 20z\"/>\n",
              "  </svg>\n",
              "      </button>\n",
              "      \n",
              "  <style>\n",
              "    .colab-df-container {\n",
              "      display:flex;\n",
              "      flex-wrap:wrap;\n",
              "      gap: 12px;\n",
              "    }\n",
              "\n",
              "    .colab-df-convert {\n",
              "      background-color: #E8F0FE;\n",
              "      border: none;\n",
              "      border-radius: 50%;\n",
              "      cursor: pointer;\n",
              "      display: none;\n",
              "      fill: #1967D2;\n",
              "      height: 32px;\n",
              "      padding: 0 0 0 0;\n",
              "      width: 32px;\n",
              "    }\n",
              "\n",
              "    .colab-df-convert:hover {\n",
              "      background-color: #E2EBFA;\n",
              "      box-shadow: 0px 1px 2px rgba(60, 64, 67, 0.3), 0px 1px 3px 1px rgba(60, 64, 67, 0.15);\n",
              "      fill: #174EA6;\n",
              "    }\n",
              "\n",
              "    [theme=dark] .colab-df-convert {\n",
              "      background-color: #3B4455;\n",
              "      fill: #D2E3FC;\n",
              "    }\n",
              "\n",
              "    [theme=dark] .colab-df-convert:hover {\n",
              "      background-color: #434B5C;\n",
              "      box-shadow: 0px 1px 3px 1px rgba(0, 0, 0, 0.15);\n",
              "      filter: drop-shadow(0px 1px 2px rgba(0, 0, 0, 0.3));\n",
              "      fill: #FFFFFF;\n",
              "    }\n",
              "  </style>\n",
              "\n",
              "      <script>\n",
              "        const buttonEl =\n",
              "          document.querySelector('#df-ed3586b9-3e65-4b8e-83f4-268f736bc317 button.colab-df-convert');\n",
              "        buttonEl.style.display =\n",
              "          google.colab.kernel.accessAllowed ? 'block' : 'none';\n",
              "\n",
              "        async function convertToInteractive(key) {\n",
              "          const element = document.querySelector('#df-ed3586b9-3e65-4b8e-83f4-268f736bc317');\n",
              "          const dataTable =\n",
              "            await google.colab.kernel.invokeFunction('convertToInteractive',\n",
              "                                                     [key], {});\n",
              "          if (!dataTable) return;\n",
              "\n",
              "          const docLinkHtml = 'Like what you see? Visit the ' +\n",
              "            '<a target=\"_blank\" href=https://colab.research.google.com/notebooks/data_table.ipynb>data table notebook</a>'\n",
              "            + ' to learn more about interactive tables.';\n",
              "          element.innerHTML = '';\n",
              "          dataTable['output_type'] = 'display_data';\n",
              "          await google.colab.output.renderOutput(dataTable, element);\n",
              "          const docLink = document.createElement('div');\n",
              "          docLink.innerHTML = docLinkHtml;\n",
              "          element.appendChild(docLink);\n",
              "        }\n",
              "      </script>\n",
              "    </div>\n",
              "  </div>\n",
              "  "
            ]
          },
          "metadata": {},
          "execution_count": 10
        }
      ]
    },
    {
      "cell_type": "code",
      "source": [
        "track_features = []\n",
        "for t_id in track_df['track_id']:\n",
        "  af = sp.audio_features(t_id)\n",
        "  track_features.append(af)\n",
        "tf_df = pd.DataFrame(columns = ['danceability', 'energy', 'key', 'loudness', 'mode', 'speechiness', 'acousticness', 'instrumentalness', 'liveness', 'valence', 'tempo', 'type', 'id', 'uri', 'track_href', 'analysis_url', 'duration_ms', 'time_signature'])\n",
        "for item in track_features:\n",
        "  for feat in item:\n",
        "    tf_df = tf_df.append(feat, ignore_index=True)"
      ],
      "metadata": {
        "execution": {
          "iopub.status.busy": "2022-06-12T18:41:25.407428Z",
          "iopub.execute_input": "2022-06-12T18:41:25.407904Z",
          "iopub.status.idle": "2022-06-12T18:42:56.519983Z",
          "shell.execute_reply.started": "2022-06-12T18:41:25.407876Z",
          "shell.execute_reply": "2022-06-12T18:42:56.519248Z"
        },
        "trusted": true,
        "id": "IfnbKJfLqMT2"
      },
      "execution_count": 11,
      "outputs": []
    },
    {
      "cell_type": "code",
      "source": [
        "scope = \"user-library-read\"\n",
        "\n",
        "sp = spotipy.Spotify(auth_manager=SpotifyOAuth(client_id = CLIENT_ID, client_secret = CLIENT_SECRET, redirect_uri = SPOTIPY_REDIRECT_URI, scope=scope))\n",
        "\n",
        "results = sp.current_user_playlists(limit=2, offset = 1)\n"
      ],
      "metadata": {
        "execution": {
          "iopub.status.busy": "2022-06-12T20:12:53.337431Z",
          "iopub.execute_input": "2022-06-12T20:12:53.338381Z",
          "iopub.status.idle": "2022-06-12T20:12:55.737257Z",
          "shell.execute_reply.started": "2022-06-12T20:12:53.338346Z",
          "shell.execute_reply": "2022-06-12T20:12:55.736098Z"
        },
        "trusted": true,
        "id": "4MPesx0LqMT3",
        "outputId": "c9e036b1-af67-47d8-db42-6f999753e037",
        "colab": {
          "base_uri": "https://localhost:8080/",
          "height": 364
        }
      },
      "execution_count": 21,
      "outputs": [
        {
          "output_type": "error",
          "ename": "OSError",
          "evalue": "ignored",
          "traceback": [
            "\u001b[0;31m---------------------------------------------------------------------------\u001b[0m",
            "\u001b[0;31mOSError\u001b[0m                                   Traceback (most recent call last)",
            "\u001b[0;32m<ipython-input-21-8156855cb39d>\u001b[0m in \u001b[0;36m<module>\u001b[0;34m()\u001b[0m\n\u001b[1;32m      3\u001b[0m \u001b[0msp\u001b[0m \u001b[0;34m=\u001b[0m \u001b[0mspotipy\u001b[0m\u001b[0;34m.\u001b[0m\u001b[0mSpotify\u001b[0m\u001b[0;34m(\u001b[0m\u001b[0mauth_manager\u001b[0m\u001b[0;34m=\u001b[0m\u001b[0mSpotifyOAuth\u001b[0m\u001b[0;34m(\u001b[0m\u001b[0mclient_id\u001b[0m \u001b[0;34m=\u001b[0m \u001b[0mCLIENT_ID\u001b[0m\u001b[0;34m,\u001b[0m \u001b[0mclient_secret\u001b[0m \u001b[0;34m=\u001b[0m \u001b[0mCLIENT_SECRET\u001b[0m\u001b[0;34m,\u001b[0m \u001b[0mredirect_uri\u001b[0m \u001b[0;34m=\u001b[0m \u001b[0mSPOTIPY_REDIRECT_URI\u001b[0m\u001b[0;34m,\u001b[0m \u001b[0mscope\u001b[0m\u001b[0;34m=\u001b[0m\u001b[0mscope\u001b[0m\u001b[0;34m)\u001b[0m\u001b[0;34m)\u001b[0m\u001b[0;34m\u001b[0m\u001b[0;34m\u001b[0m\u001b[0m\n\u001b[1;32m      4\u001b[0m \u001b[0;34m\u001b[0m\u001b[0m\n\u001b[0;32m----> 5\u001b[0;31m \u001b[0mresults\u001b[0m \u001b[0;34m=\u001b[0m \u001b[0msp\u001b[0m\u001b[0;34m.\u001b[0m\u001b[0mcurrent_user_playlists\u001b[0m\u001b[0;34m(\u001b[0m\u001b[0mlimit\u001b[0m\u001b[0;34m=\u001b[0m\u001b[0;36m2\u001b[0m\u001b[0;34m,\u001b[0m \u001b[0moffset\u001b[0m \u001b[0;34m=\u001b[0m \u001b[0;36m1\u001b[0m\u001b[0;34m)\u001b[0m\u001b[0;34m\u001b[0m\u001b[0;34m\u001b[0m\u001b[0m\n\u001b[0m",
            "\u001b[0;32m/usr/local/lib/python3.7/dist-packages/spotipy/client.py\u001b[0m in \u001b[0;36mcurrent_user_playlists\u001b[0;34m(self, limit, offset)\u001b[0m\n\u001b[1;32m    601\u001b[0m                 \u001b[0;34m-\u001b[0m \u001b[0moffset\u001b[0m \u001b[0;34m-\u001b[0m \u001b[0mthe\u001b[0m \u001b[0mindex\u001b[0m \u001b[0mof\u001b[0m \u001b[0mthe\u001b[0m \u001b[0mfirst\u001b[0m \u001b[0mitem\u001b[0m \u001b[0mto\u001b[0m \u001b[0;32mreturn\u001b[0m\u001b[0;34m\u001b[0m\u001b[0;34m\u001b[0m\u001b[0m\n\u001b[1;32m    602\u001b[0m         \"\"\"\n\u001b[0;32m--> 603\u001b[0;31m         \u001b[0;32mreturn\u001b[0m \u001b[0mself\u001b[0m\u001b[0;34m.\u001b[0m\u001b[0m_get\u001b[0m\u001b[0;34m(\u001b[0m\u001b[0;34m\"me/playlists\"\u001b[0m\u001b[0;34m,\u001b[0m \u001b[0mlimit\u001b[0m\u001b[0;34m=\u001b[0m\u001b[0mlimit\u001b[0m\u001b[0;34m,\u001b[0m \u001b[0moffset\u001b[0m\u001b[0;34m=\u001b[0m\u001b[0moffset\u001b[0m\u001b[0;34m)\u001b[0m\u001b[0;34m\u001b[0m\u001b[0;34m\u001b[0m\u001b[0m\n\u001b[0m\u001b[1;32m    604\u001b[0m \u001b[0;34m\u001b[0m\u001b[0m\n\u001b[1;32m    605\u001b[0m     \u001b[0;32mdef\u001b[0m \u001b[0mplaylist\u001b[0m\u001b[0;34m(\u001b[0m\u001b[0mself\u001b[0m\u001b[0;34m,\u001b[0m \u001b[0mplaylist_id\u001b[0m\u001b[0;34m,\u001b[0m \u001b[0mfields\u001b[0m\u001b[0;34m=\u001b[0m\u001b[0;32mNone\u001b[0m\u001b[0;34m,\u001b[0m \u001b[0mmarket\u001b[0m\u001b[0;34m=\u001b[0m\u001b[0;32mNone\u001b[0m\u001b[0;34m,\u001b[0m \u001b[0madditional_types\u001b[0m\u001b[0;34m=\u001b[0m\u001b[0;34m(\u001b[0m\u001b[0;34m\"track\"\u001b[0m\u001b[0;34m,\u001b[0m\u001b[0;34m)\u001b[0m\u001b[0;34m)\u001b[0m\u001b[0;34m:\u001b[0m\u001b[0;34m\u001b[0m\u001b[0;34m\u001b[0m\u001b[0m\n",
            "\u001b[0;32m/usr/local/lib/python3.7/dist-packages/spotipy/client.py\u001b[0m in \u001b[0;36m_get\u001b[0;34m(self, url, args, payload, **kwargs)\u001b[0m\n\u001b[1;32m    295\u001b[0m             \u001b[0mkwargs\u001b[0m\u001b[0;34m.\u001b[0m\u001b[0mupdate\u001b[0m\u001b[0;34m(\u001b[0m\u001b[0margs\u001b[0m\u001b[0;34m)\u001b[0m\u001b[0;34m\u001b[0m\u001b[0;34m\u001b[0m\u001b[0m\n\u001b[1;32m    296\u001b[0m \u001b[0;34m\u001b[0m\u001b[0m\n\u001b[0;32m--> 297\u001b[0;31m         \u001b[0;32mreturn\u001b[0m \u001b[0mself\u001b[0m\u001b[0;34m.\u001b[0m\u001b[0m_internal_call\u001b[0m\u001b[0;34m(\u001b[0m\u001b[0;34m\"GET\"\u001b[0m\u001b[0;34m,\u001b[0m \u001b[0murl\u001b[0m\u001b[0;34m,\u001b[0m \u001b[0mpayload\u001b[0m\u001b[0;34m,\u001b[0m \u001b[0mkwargs\u001b[0m\u001b[0;34m)\u001b[0m\u001b[0;34m\u001b[0m\u001b[0;34m\u001b[0m\u001b[0m\n\u001b[0m\u001b[1;32m    298\u001b[0m \u001b[0;34m\u001b[0m\u001b[0m\n\u001b[1;32m    299\u001b[0m     \u001b[0;32mdef\u001b[0m \u001b[0m_post\u001b[0m\u001b[0;34m(\u001b[0m\u001b[0mself\u001b[0m\u001b[0;34m,\u001b[0m \u001b[0murl\u001b[0m\u001b[0;34m,\u001b[0m \u001b[0margs\u001b[0m\u001b[0;34m=\u001b[0m\u001b[0;32mNone\u001b[0m\u001b[0;34m,\u001b[0m \u001b[0mpayload\u001b[0m\u001b[0;34m=\u001b[0m\u001b[0;32mNone\u001b[0m\u001b[0;34m,\u001b[0m \u001b[0;34m**\u001b[0m\u001b[0mkwargs\u001b[0m\u001b[0;34m)\u001b[0m\u001b[0;34m:\u001b[0m\u001b[0;34m\u001b[0m\u001b[0;34m\u001b[0m\u001b[0m\n",
            "\u001b[0;32m/usr/local/lib/python3.7/dist-packages/spotipy/client.py\u001b[0m in \u001b[0;36m_internal_call\u001b[0;34m(self, method, url, payload, params)\u001b[0m\n\u001b[1;32m    219\u001b[0m         \u001b[0;32mif\u001b[0m \u001b[0;32mnot\u001b[0m \u001b[0murl\u001b[0m\u001b[0;34m.\u001b[0m\u001b[0mstartswith\u001b[0m\u001b[0;34m(\u001b[0m\u001b[0;34m\"http\"\u001b[0m\u001b[0;34m)\u001b[0m\u001b[0;34m:\u001b[0m\u001b[0;34m\u001b[0m\u001b[0;34m\u001b[0m\u001b[0m\n\u001b[1;32m    220\u001b[0m             \u001b[0murl\u001b[0m \u001b[0;34m=\u001b[0m \u001b[0mself\u001b[0m\u001b[0;34m.\u001b[0m\u001b[0mprefix\u001b[0m \u001b[0;34m+\u001b[0m \u001b[0murl\u001b[0m\u001b[0;34m\u001b[0m\u001b[0;34m\u001b[0m\u001b[0m\n\u001b[0;32m--> 221\u001b[0;31m         \u001b[0mheaders\u001b[0m \u001b[0;34m=\u001b[0m \u001b[0mself\u001b[0m\u001b[0;34m.\u001b[0m\u001b[0m_auth_headers\u001b[0m\u001b[0;34m(\u001b[0m\u001b[0;34m)\u001b[0m\u001b[0;34m\u001b[0m\u001b[0;34m\u001b[0m\u001b[0m\n\u001b[0m\u001b[1;32m    222\u001b[0m \u001b[0;34m\u001b[0m\u001b[0m\n\u001b[1;32m    223\u001b[0m         \u001b[0;32mif\u001b[0m \u001b[0;34m\"content_type\"\u001b[0m \u001b[0;32min\u001b[0m \u001b[0margs\u001b[0m\u001b[0;34m[\u001b[0m\u001b[0;34m\"params\"\u001b[0m\u001b[0;34m]\u001b[0m\u001b[0;34m:\u001b[0m\u001b[0;34m\u001b[0m\u001b[0;34m\u001b[0m\u001b[0m\n",
            "\u001b[0;32m/usr/local/lib/python3.7/dist-packages/spotipy/client.py\u001b[0m in \u001b[0;36m_auth_headers\u001b[0;34m(self)\u001b[0m\n\u001b[1;32m    210\u001b[0m             \u001b[0;32mreturn\u001b[0m \u001b[0;34m{\u001b[0m\u001b[0;34m}\u001b[0m\u001b[0;34m\u001b[0m\u001b[0;34m\u001b[0m\u001b[0m\n\u001b[1;32m    211\u001b[0m         \u001b[0;32mtry\u001b[0m\u001b[0;34m:\u001b[0m\u001b[0;34m\u001b[0m\u001b[0;34m\u001b[0m\u001b[0m\n\u001b[0;32m--> 212\u001b[0;31m             \u001b[0mtoken\u001b[0m \u001b[0;34m=\u001b[0m \u001b[0mself\u001b[0m\u001b[0;34m.\u001b[0m\u001b[0mauth_manager\u001b[0m\u001b[0;34m.\u001b[0m\u001b[0mget_access_token\u001b[0m\u001b[0;34m(\u001b[0m\u001b[0mas_dict\u001b[0m\u001b[0;34m=\u001b[0m\u001b[0;32mFalse\u001b[0m\u001b[0;34m)\u001b[0m\u001b[0;34m\u001b[0m\u001b[0;34m\u001b[0m\u001b[0m\n\u001b[0m\u001b[1;32m    213\u001b[0m         \u001b[0;32mexcept\u001b[0m \u001b[0mTypeError\u001b[0m\u001b[0;34m:\u001b[0m\u001b[0;34m\u001b[0m\u001b[0;34m\u001b[0m\u001b[0m\n\u001b[1;32m    214\u001b[0m             \u001b[0mtoken\u001b[0m \u001b[0;34m=\u001b[0m \u001b[0mself\u001b[0m\u001b[0;34m.\u001b[0m\u001b[0mauth_manager\u001b[0m\u001b[0;34m.\u001b[0m\u001b[0mget_access_token\u001b[0m\u001b[0;34m(\u001b[0m\u001b[0;34m)\u001b[0m\u001b[0;34m\u001b[0m\u001b[0;34m\u001b[0m\u001b[0m\n",
            "\u001b[0;32m/usr/local/lib/python3.7/dist-packages/spotipy/oauth2.py\u001b[0m in \u001b[0;36mget_access_token\u001b[0;34m(self, code, as_dict, check_cache)\u001b[0m\n\u001b[1;32m    533\u001b[0m         payload = {\n\u001b[1;32m    534\u001b[0m             \u001b[0;34m\"redirect_uri\"\u001b[0m\u001b[0;34m:\u001b[0m \u001b[0mself\u001b[0m\u001b[0;34m.\u001b[0m\u001b[0mredirect_uri\u001b[0m\u001b[0;34m,\u001b[0m\u001b[0;34m\u001b[0m\u001b[0;34m\u001b[0m\u001b[0m\n\u001b[0;32m--> 535\u001b[0;31m             \u001b[0;34m\"code\"\u001b[0m\u001b[0;34m:\u001b[0m \u001b[0mcode\u001b[0m \u001b[0;32mor\u001b[0m \u001b[0mself\u001b[0m\u001b[0;34m.\u001b[0m\u001b[0mget_auth_response\u001b[0m\u001b[0;34m(\u001b[0m\u001b[0;34m)\u001b[0m\u001b[0;34m,\u001b[0m\u001b[0;34m\u001b[0m\u001b[0;34m\u001b[0m\u001b[0m\n\u001b[0m\u001b[1;32m    536\u001b[0m             \u001b[0;34m\"grant_type\"\u001b[0m\u001b[0;34m:\u001b[0m \u001b[0;34m\"authorization_code\"\u001b[0m\u001b[0;34m,\u001b[0m\u001b[0;34m\u001b[0m\u001b[0;34m\u001b[0m\u001b[0m\n\u001b[1;32m    537\u001b[0m         }\n",
            "\u001b[0;32m/usr/local/lib/python3.7/dist-packages/spotipy/oauth2.py\u001b[0m in \u001b[0;36mget_auth_response\u001b[0;34m(self, open_browser)\u001b[0m\n\u001b[1;32m    488\u001b[0m             \u001b[0;31m# Only start a local http server if a port is specified\u001b[0m\u001b[0;34m\u001b[0m\u001b[0;34m\u001b[0m\u001b[0;34m\u001b[0m\u001b[0m\n\u001b[1;32m    489\u001b[0m             \u001b[0;32mif\u001b[0m \u001b[0mredirect_port\u001b[0m\u001b[0;34m:\u001b[0m\u001b[0;34m\u001b[0m\u001b[0;34m\u001b[0m\u001b[0m\n\u001b[0;32m--> 490\u001b[0;31m                 \u001b[0;32mreturn\u001b[0m \u001b[0mself\u001b[0m\u001b[0;34m.\u001b[0m\u001b[0m_get_auth_response_local_server\u001b[0m\u001b[0;34m(\u001b[0m\u001b[0mredirect_port\u001b[0m\u001b[0;34m)\u001b[0m\u001b[0;34m\u001b[0m\u001b[0;34m\u001b[0m\u001b[0m\n\u001b[0m\u001b[1;32m    491\u001b[0m             \u001b[0;32melse\u001b[0m\u001b[0;34m:\u001b[0m\u001b[0;34m\u001b[0m\u001b[0;34m\u001b[0m\u001b[0m\n\u001b[1;32m    492\u001b[0m                 logger.warning('Using `%s` as redirect URI without a port. '\n",
            "\u001b[0;32m/usr/local/lib/python3.7/dist-packages/spotipy/oauth2.py\u001b[0m in \u001b[0;36m_get_auth_response_local_server\u001b[0;34m(self, redirect_port)\u001b[0m\n\u001b[1;32m    455\u001b[0m \u001b[0;34m\u001b[0m\u001b[0m\n\u001b[1;32m    456\u001b[0m     \u001b[0;32mdef\u001b[0m \u001b[0m_get_auth_response_local_server\u001b[0m\u001b[0;34m(\u001b[0m\u001b[0mself\u001b[0m\u001b[0;34m,\u001b[0m \u001b[0mredirect_port\u001b[0m\u001b[0;34m)\u001b[0m\u001b[0;34m:\u001b[0m\u001b[0;34m\u001b[0m\u001b[0;34m\u001b[0m\u001b[0m\n\u001b[0;32m--> 457\u001b[0;31m         \u001b[0mserver\u001b[0m \u001b[0;34m=\u001b[0m \u001b[0mstart_local_http_server\u001b[0m\u001b[0;34m(\u001b[0m\u001b[0mredirect_port\u001b[0m\u001b[0;34m)\u001b[0m\u001b[0;34m\u001b[0m\u001b[0;34m\u001b[0m\u001b[0m\n\u001b[0m\u001b[1;32m    458\u001b[0m         \u001b[0mself\u001b[0m\u001b[0;34m.\u001b[0m\u001b[0m_open_auth_url\u001b[0m\u001b[0;34m(\u001b[0m\u001b[0;34m)\u001b[0m\u001b[0;34m\u001b[0m\u001b[0;34m\u001b[0m\u001b[0m\n\u001b[1;32m    459\u001b[0m         \u001b[0mserver\u001b[0m\u001b[0;34m.\u001b[0m\u001b[0mhandle_request\u001b[0m\u001b[0;34m(\u001b[0m\u001b[0;34m)\u001b[0m\u001b[0;34m\u001b[0m\u001b[0;34m\u001b[0m\u001b[0m\n",
            "\u001b[0;32m/usr/local/lib/python3.7/dist-packages/spotipy/oauth2.py\u001b[0m in \u001b[0;36mstart_local_http_server\u001b[0;34m(port, handler)\u001b[0m\n\u001b[1;32m   1301\u001b[0m \u001b[0;34m\u001b[0m\u001b[0m\n\u001b[1;32m   1302\u001b[0m \u001b[0;32mdef\u001b[0m \u001b[0mstart_local_http_server\u001b[0m\u001b[0;34m(\u001b[0m\u001b[0mport\u001b[0m\u001b[0;34m,\u001b[0m \u001b[0mhandler\u001b[0m\u001b[0;34m=\u001b[0m\u001b[0mRequestHandler\u001b[0m\u001b[0;34m)\u001b[0m\u001b[0;34m:\u001b[0m\u001b[0;34m\u001b[0m\u001b[0;34m\u001b[0m\u001b[0m\n\u001b[0;32m-> 1303\u001b[0;31m     \u001b[0mserver\u001b[0m \u001b[0;34m=\u001b[0m \u001b[0mHTTPServer\u001b[0m\u001b[0;34m(\u001b[0m\u001b[0;34m(\u001b[0m\u001b[0;34m\"127.0.0.1\"\u001b[0m\u001b[0;34m,\u001b[0m \u001b[0mport\u001b[0m\u001b[0;34m)\u001b[0m\u001b[0;34m,\u001b[0m \u001b[0mhandler\u001b[0m\u001b[0;34m)\u001b[0m\u001b[0;34m\u001b[0m\u001b[0;34m\u001b[0m\u001b[0m\n\u001b[0m\u001b[1;32m   1304\u001b[0m     \u001b[0mserver\u001b[0m\u001b[0;34m.\u001b[0m\u001b[0mallow_reuse_address\u001b[0m \u001b[0;34m=\u001b[0m \u001b[0;32mTrue\u001b[0m\u001b[0;34m\u001b[0m\u001b[0;34m\u001b[0m\u001b[0m\n\u001b[1;32m   1305\u001b[0m     \u001b[0mserver\u001b[0m\u001b[0;34m.\u001b[0m\u001b[0mauth_code\u001b[0m \u001b[0;34m=\u001b[0m \u001b[0;32mNone\u001b[0m\u001b[0;34m\u001b[0m\u001b[0;34m\u001b[0m\u001b[0m\n",
            "\u001b[0;32m/usr/lib/python3.7/socketserver.py\u001b[0m in \u001b[0;36m__init__\u001b[0;34m(self, server_address, RequestHandlerClass, bind_and_activate)\u001b[0m\n\u001b[1;32m    450\u001b[0m         \u001b[0;32mif\u001b[0m \u001b[0mbind_and_activate\u001b[0m\u001b[0;34m:\u001b[0m\u001b[0;34m\u001b[0m\u001b[0;34m\u001b[0m\u001b[0m\n\u001b[1;32m    451\u001b[0m             \u001b[0;32mtry\u001b[0m\u001b[0;34m:\u001b[0m\u001b[0;34m\u001b[0m\u001b[0;34m\u001b[0m\u001b[0m\n\u001b[0;32m--> 452\u001b[0;31m                 \u001b[0mself\u001b[0m\u001b[0;34m.\u001b[0m\u001b[0mserver_bind\u001b[0m\u001b[0;34m(\u001b[0m\u001b[0;34m)\u001b[0m\u001b[0;34m\u001b[0m\u001b[0;34m\u001b[0m\u001b[0m\n\u001b[0m\u001b[1;32m    453\u001b[0m                 \u001b[0mself\u001b[0m\u001b[0;34m.\u001b[0m\u001b[0mserver_activate\u001b[0m\u001b[0;34m(\u001b[0m\u001b[0;34m)\u001b[0m\u001b[0;34m\u001b[0m\u001b[0;34m\u001b[0m\u001b[0m\n\u001b[1;32m    454\u001b[0m             \u001b[0;32mexcept\u001b[0m\u001b[0;34m:\u001b[0m\u001b[0;34m\u001b[0m\u001b[0;34m\u001b[0m\u001b[0m\n",
            "\u001b[0;32m/usr/lib/python3.7/http/server.py\u001b[0m in \u001b[0;36mserver_bind\u001b[0;34m(self)\u001b[0m\n\u001b[1;32m    135\u001b[0m     \u001b[0;32mdef\u001b[0m \u001b[0mserver_bind\u001b[0m\u001b[0;34m(\u001b[0m\u001b[0mself\u001b[0m\u001b[0;34m)\u001b[0m\u001b[0;34m:\u001b[0m\u001b[0;34m\u001b[0m\u001b[0;34m\u001b[0m\u001b[0m\n\u001b[1;32m    136\u001b[0m         \u001b[0;34m\"\"\"Override server_bind to store the server name.\"\"\"\u001b[0m\u001b[0;34m\u001b[0m\u001b[0;34m\u001b[0m\u001b[0m\n\u001b[0;32m--> 137\u001b[0;31m         \u001b[0msocketserver\u001b[0m\u001b[0;34m.\u001b[0m\u001b[0mTCPServer\u001b[0m\u001b[0;34m.\u001b[0m\u001b[0mserver_bind\u001b[0m\u001b[0;34m(\u001b[0m\u001b[0mself\u001b[0m\u001b[0;34m)\u001b[0m\u001b[0;34m\u001b[0m\u001b[0;34m\u001b[0m\u001b[0m\n\u001b[0m\u001b[1;32m    138\u001b[0m         \u001b[0mhost\u001b[0m\u001b[0;34m,\u001b[0m \u001b[0mport\u001b[0m \u001b[0;34m=\u001b[0m \u001b[0mself\u001b[0m\u001b[0;34m.\u001b[0m\u001b[0mserver_address\u001b[0m\u001b[0;34m[\u001b[0m\u001b[0;34m:\u001b[0m\u001b[0;36m2\u001b[0m\u001b[0;34m]\u001b[0m\u001b[0;34m\u001b[0m\u001b[0;34m\u001b[0m\u001b[0m\n\u001b[1;32m    139\u001b[0m         \u001b[0mself\u001b[0m\u001b[0;34m.\u001b[0m\u001b[0mserver_name\u001b[0m \u001b[0;34m=\u001b[0m \u001b[0msocket\u001b[0m\u001b[0;34m.\u001b[0m\u001b[0mgetfqdn\u001b[0m\u001b[0;34m(\u001b[0m\u001b[0mhost\u001b[0m\u001b[0;34m)\u001b[0m\u001b[0;34m\u001b[0m\u001b[0;34m\u001b[0m\u001b[0m\n",
            "\u001b[0;32m/usr/lib/python3.7/socketserver.py\u001b[0m in \u001b[0;36mserver_bind\u001b[0;34m(self)\u001b[0m\n\u001b[1;32m    464\u001b[0m         \u001b[0;32mif\u001b[0m \u001b[0mself\u001b[0m\u001b[0;34m.\u001b[0m\u001b[0mallow_reuse_address\u001b[0m\u001b[0;34m:\u001b[0m\u001b[0;34m\u001b[0m\u001b[0;34m\u001b[0m\u001b[0m\n\u001b[1;32m    465\u001b[0m             \u001b[0mself\u001b[0m\u001b[0;34m.\u001b[0m\u001b[0msocket\u001b[0m\u001b[0;34m.\u001b[0m\u001b[0msetsockopt\u001b[0m\u001b[0;34m(\u001b[0m\u001b[0msocket\u001b[0m\u001b[0;34m.\u001b[0m\u001b[0mSOL_SOCKET\u001b[0m\u001b[0;34m,\u001b[0m \u001b[0msocket\u001b[0m\u001b[0;34m.\u001b[0m\u001b[0mSO_REUSEADDR\u001b[0m\u001b[0;34m,\u001b[0m \u001b[0;36m1\u001b[0m\u001b[0;34m)\u001b[0m\u001b[0;34m\u001b[0m\u001b[0;34m\u001b[0m\u001b[0m\n\u001b[0;32m--> 466\u001b[0;31m         \u001b[0mself\u001b[0m\u001b[0;34m.\u001b[0m\u001b[0msocket\u001b[0m\u001b[0;34m.\u001b[0m\u001b[0mbind\u001b[0m\u001b[0;34m(\u001b[0m\u001b[0mself\u001b[0m\u001b[0;34m.\u001b[0m\u001b[0mserver_address\u001b[0m\u001b[0;34m)\u001b[0m\u001b[0;34m\u001b[0m\u001b[0;34m\u001b[0m\u001b[0m\n\u001b[0m\u001b[1;32m    467\u001b[0m         \u001b[0mself\u001b[0m\u001b[0;34m.\u001b[0m\u001b[0mserver_address\u001b[0m \u001b[0;34m=\u001b[0m \u001b[0mself\u001b[0m\u001b[0;34m.\u001b[0m\u001b[0msocket\u001b[0m\u001b[0;34m.\u001b[0m\u001b[0mgetsockname\u001b[0m\u001b[0;34m(\u001b[0m\u001b[0;34m)\u001b[0m\u001b[0;34m\u001b[0m\u001b[0;34m\u001b[0m\u001b[0m\n\u001b[1;32m    468\u001b[0m \u001b[0;34m\u001b[0m\u001b[0m\n",
            "\u001b[0;31mOSError\u001b[0m: [Errno 98] Address already in use"
          ]
        }
      ]
    },
    {
      "cell_type": "code",
      "source": [
        "teste = sp.current_user_recently_played()"
      ],
      "metadata": {
        "trusted": true,
        "id": "pUQveN4cqMT4"
      },
      "execution_count": null,
      "outputs": []
    },
    {
      "cell_type": "code",
      "source": [
        "playlists = sp.current_user_playlists(limit=2, offset = 1)"
      ],
      "metadata": {
        "trusted": true,
        "id": "sgaEbp8aqMT6"
      },
      "execution_count": null,
      "outputs": []
    },
    {
      "cell_type": "code",
      "source": [
        "playlist"
      ],
      "metadata": {
        "execution": {
          "iopub.status.busy": "2022-06-11T20:27:36.84165Z",
          "iopub.execute_input": "2022-06-11T20:27:36.842141Z",
          "iopub.status.idle": "2022-06-11T20:27:36.86565Z",
          "shell.execute_reply.started": "2022-06-11T20:27:36.842104Z",
          "shell.execute_reply": "2022-06-11T20:27:36.864145Z"
        },
        "trusted": true,
        "id": "Ejb9r5SkqMT7"
      },
      "execution_count": null,
      "outputs": []
    },
    {
      "cell_type": "code",
      "source": [
        ""
      ],
      "metadata": {
        "id": "53jFs0JGqMT9"
      },
      "execution_count": null,
      "outputs": []
    }
  ]
}
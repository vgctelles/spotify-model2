{
 "cells": [
  {
   "cell_type": "markdown",
   "id": "e21bc21b",
   "metadata": {
    "id": "view-in-github",
    "papermill": {
     "duration": 0.004793,
     "end_time": "2022-06-11T19:58:11.598570",
     "exception": false,
     "start_time": "2022-06-11T19:58:11.593777",
     "status": "completed"
    },
    "tags": []
   },
   "source": [
    "<a href=\"https://colab.research.google.com/github/vgctelles/spotify-model2/blob/main/spotify_data_scrap.ipynb\" target=\"_parent\"><img src=\"https://colab.research.google.com/assets/colab-badge.svg\" alt=\"Open In Colab\"/></a>"
   ]
  },
  {
   "cell_type": "code",
   "execution_count": 1,
   "id": "074b2a05",
   "metadata": {
    "execution": {
     "iopub.execute_input": "2022-06-11T19:58:11.611266Z",
     "iopub.status.busy": "2022-06-11T19:58:11.610229Z",
     "iopub.status.idle": "2022-06-11T19:58:24.452245Z",
     "shell.execute_reply": "2022-06-11T19:58:24.451039Z"
    },
    "id": "OE4UmPk_Drnb",
    "papermill": {
     "duration": 12.849521,
     "end_time": "2022-06-11T19:58:24.454709",
     "exception": false,
     "start_time": "2022-06-11T19:58:11.605188",
     "status": "completed"
    },
    "tags": []
   },
   "outputs": [
    {
     "name": "stdout",
     "output_type": "stream",
     "text": [
      "Collecting spotipy\r\n",
      "  Downloading spotipy-2.19.0-py3-none-any.whl (27 kB)\r\n",
      "Requirement already satisfied: six>=1.15.0 in /opt/conda/lib/python3.7/site-packages (from spotipy) (1.16.0)\r\n",
      "Requirement already satisfied: requests>=2.25.0 in /opt/conda/lib/python3.7/site-packages (from spotipy) (2.27.1)\r\n",
      "Requirement already satisfied: urllib3>=1.26.0 in /opt/conda/lib/python3.7/site-packages (from spotipy) (1.26.9)\r\n",
      "Requirement already satisfied: charset-normalizer~=2.0.0 in /opt/conda/lib/python3.7/site-packages (from requests>=2.25.0->spotipy) (2.0.12)\r\n",
      "Requirement already satisfied: idna<4,>=2.5 in /opt/conda/lib/python3.7/site-packages (from requests>=2.25.0->spotipy) (3.3)\r\n",
      "Requirement already satisfied: certifi>=2017.4.17 in /opt/conda/lib/python3.7/site-packages (from requests>=2.25.0->spotipy) (2022.5.18.1)\r\n",
      "Installing collected packages: spotipy\r\n",
      "Successfully installed spotipy-2.19.0\r\n",
      "\u001b[33mWARNING: Running pip as the 'root' user can result in broken permissions and conflicting behaviour with the system package manager. It is recommended to use a virtual environment instead: https://pip.pypa.io/warnings/venv\u001b[0m\u001b[33m\r\n",
      "\u001b[0mNote: you may need to restart the kernel to use updated packages.\n"
     ]
    }
   ],
   "source": [
    "pip install spotipy"
   ]
  },
  {
   "cell_type": "code",
   "execution_count": 2,
   "id": "74404878",
   "metadata": {
    "execution": {
     "iopub.execute_input": "2022-06-11T19:58:24.465474Z",
     "iopub.status.busy": "2022-06-11T19:58:24.465083Z",
     "iopub.status.idle": "2022-06-11T19:58:24.482570Z",
     "shell.execute_reply": "2022-06-11T19:58:24.481721Z"
    },
    "id": "xIrRTClXDcsC",
    "papermill": {
     "duration": 0.025627,
     "end_time": "2022-06-11T19:58:24.484861",
     "exception": false,
     "start_time": "2022-06-11T19:58:24.459234",
     "status": "completed"
    },
    "tags": []
   },
   "outputs": [],
   "source": [
    "import pandas as pd\n",
    "import spotipy\n",
    "from spotipy.oauth2 import SpotifyClientCredentials"
   ]
  },
  {
   "cell_type": "code",
   "execution_count": 3,
   "id": "ea38158a",
   "metadata": {
    "execution": {
     "iopub.execute_input": "2022-06-11T19:58:24.495217Z",
     "iopub.status.busy": "2022-06-11T19:58:24.494847Z",
     "iopub.status.idle": "2022-06-11T19:58:24.498987Z",
     "shell.execute_reply": "2022-06-11T19:58:24.498215Z"
    },
    "id": "1VlU3Z_qDixM",
    "papermill": {
     "duration": 0.011252,
     "end_time": "2022-06-11T19:58:24.500781",
     "exception": false,
     "start_time": "2022-06-11T19:58:24.489529",
     "status": "completed"
    },
    "tags": []
   },
   "outputs": [],
   "source": [
    "CLIENT_ID = 'dcdbc364b650420ba00c3fbcca957a4f'\n",
    "CLIENT_SECRET = '381f0fa966784f4e92b37134958856d4'"
   ]
  },
  {
   "cell_type": "code",
   "execution_count": 4,
   "id": "cf2b50eb",
   "metadata": {
    "execution": {
     "iopub.execute_input": "2022-06-11T19:58:24.511319Z",
     "iopub.status.busy": "2022-06-11T19:58:24.510709Z",
     "iopub.status.idle": "2022-06-11T19:58:24.515519Z",
     "shell.execute_reply": "2022-06-11T19:58:24.514845Z"
    },
    "id": "wTFo_ysPDpIO",
    "papermill": {
     "duration": 0.012148,
     "end_time": "2022-06-11T19:58:24.517350",
     "exception": false,
     "start_time": "2022-06-11T19:58:24.505202",
     "status": "completed"
    },
    "tags": []
   },
   "outputs": [],
   "source": [
    "client_credentials_manager = SpotifyClientCredentials(client_id=CLIENT_ID, client_secret=CLIENT_SECRET)\n",
    "sp = spotipy.Spotify(client_credentials_manager=client_credentials_manager)"
   ]
  },
  {
   "cell_type": "code",
   "execution_count": 5,
   "id": "509c78a7",
   "metadata": {
    "execution": {
     "iopub.execute_input": "2022-06-11T19:58:24.527765Z",
     "iopub.status.busy": "2022-06-11T19:58:24.527367Z",
     "iopub.status.idle": "2022-06-11T19:58:28.398142Z",
     "shell.execute_reply": "2022-06-11T19:58:28.397177Z"
    },
    "id": "KgyBDZ5RFCdJ",
    "papermill": {
     "duration": 3.878943,
     "end_time": "2022-06-11T19:58:28.400632",
     "exception": false,
     "start_time": "2022-06-11T19:58:24.521689",
     "status": "completed"
    },
    "tags": []
   },
   "outputs": [],
   "source": [
    "#test 1000 data scrap\n",
    "\n",
    "artist_name = []\n",
    "track_name = []\n",
    "track_popularity = []\n",
    "track_explicity = []\n",
    "artist_id = []\n",
    "track_id = []\n",
    "album_name = []\n",
    "album_id = []\n",
    "        #range(start, stop, step)\n",
    "for i in range(0,1000,50):\n",
    "    track_results = sp.search(q='year:2021', type='track', limit=50, market = 'BR', offset=i)\n",
    "    for i, t in enumerate(track_results['tracks']['items']):\n",
    "        album_name.append(t['album']['name'])\n",
    "        album_id.append(t['album']['id'])\n",
    "        artist_name.append(t['artists'][0]['name'])\n",
    "        artist_id.append(t['artists'][0]['id'])\n",
    "        track_name.append(t['name'])\n",
    "        track_id.append(t['id'])\n",
    "        track_popularity.append(t['popularity'])\n",
    "        track_explicity.append(t['explicit'])"
   ]
  },
  {
   "cell_type": "code",
   "execution_count": 6,
   "id": "37d9d2da",
   "metadata": {
    "execution": {
     "iopub.execute_input": "2022-06-11T19:58:28.411049Z",
     "iopub.status.busy": "2022-06-11T19:58:28.410191Z",
     "iopub.status.idle": "2022-06-11T19:58:28.421022Z",
     "shell.execute_reply": "2022-06-11T19:58:28.420378Z"
    },
    "id": "0UXUyECOFFOI",
    "outputId": "cc5f1c29-f3b8-457f-d837-d36ba0538ab8",
    "papermill": {
     "duration": 0.018446,
     "end_time": "2022-06-11T19:58:28.423363",
     "exception": false,
     "start_time": "2022-06-11T19:58:28.404917",
     "status": "completed"
    },
    "tags": []
   },
   "outputs": [
    {
     "name": "stdout",
     "output_type": "stream",
     "text": [
      "(1000, 7)\n"
     ]
    }
   ],
   "source": [
    "track_df = pd.DataFrame({'album_name' : album_name,'artist_name' : artist_name, 'track_name' : track_name, 'track_id' : track_id, 'track_popularity' : track_popularity, 'explicit' : track_explicity, 'artist_id' : artist_id})\n",
    "print(track_df.shape)"
   ]
  },
  {
   "cell_type": "code",
   "execution_count": 7,
   "id": "98785d3e",
   "metadata": {
    "execution": {
     "iopub.execute_input": "2022-06-11T19:58:28.434659Z",
     "iopub.status.busy": "2022-06-11T19:58:28.434234Z",
     "iopub.status.idle": "2022-06-11T19:58:28.455864Z",
     "shell.execute_reply": "2022-06-11T19:58:28.455206Z"
    },
    "id": "t1IDfMVOHCYR",
    "outputId": "4f06c148-c5b4-414c-d929-327cf2cc04a2",
    "papermill": {
     "duration": 0.028978,
     "end_time": "2022-06-11T19:58:28.457629",
     "exception": false,
     "start_time": "2022-06-11T19:58:28.428651",
     "status": "completed"
    },
    "tags": []
   },
   "outputs": [
    {
     "data": {
      "text/html": [
       "<div>\n",
       "<style scoped>\n",
       "    .dataframe tbody tr th:only-of-type {\n",
       "        vertical-align: middle;\n",
       "    }\n",
       "\n",
       "    .dataframe tbody tr th {\n",
       "        vertical-align: top;\n",
       "    }\n",
       "\n",
       "    .dataframe thead th {\n",
       "        text-align: right;\n",
       "    }\n",
       "</style>\n",
       "<table border=\"1\" class=\"dataframe\">\n",
       "  <thead>\n",
       "    <tr style=\"text-align: right;\">\n",
       "      <th></th>\n",
       "      <th>album_name</th>\n",
       "      <th>artist_name</th>\n",
       "      <th>track_name</th>\n",
       "      <th>track_id</th>\n",
       "      <th>track_popularity</th>\n",
       "      <th>explicit</th>\n",
       "      <th>artist_id</th>\n",
       "    </tr>\n",
       "  </thead>\n",
       "  <tbody>\n",
       "    <tr>\n",
       "      <th>0</th>\n",
       "      <td>Molhando o Volante</td>\n",
       "      <td>Jorge &amp; Mateus</td>\n",
       "      <td>Molhando o Volante</td>\n",
       "      <td>3ITkrUvAA6gzxer2UIom3P</td>\n",
       "      <td>82</td>\n",
       "      <td>False</td>\n",
       "      <td>1elUiq4X7pxej6FRlrEzjM</td>\n",
       "    </tr>\n",
       "    <tr>\n",
       "      <th>1</th>\n",
       "      <td>Merry Christmas and Happy New Year 2021 (Radio...</td>\n",
       "      <td>Dj Biffen</td>\n",
       "      <td>Merry Christmas and Happy New Year 2021 - Radi...</td>\n",
       "      <td>7h7yPyss4MIBVPXVeF83vg</td>\n",
       "      <td>23</td>\n",
       "      <td>True</td>\n",
       "      <td>7K54lZmkO9dwqe22N27ftb</td>\n",
       "    </tr>\n",
       "    <tr>\n",
       "      <th>2</th>\n",
       "      <td>Malvadão 3</td>\n",
       "      <td>Xamã</td>\n",
       "      <td>Malvadão 3</td>\n",
       "      <td>0NBgyml7T0IvUNbXIkcSpH</td>\n",
       "      <td>82</td>\n",
       "      <td>False</td>\n",
       "      <td>5YwzDz4RJfTiMHS4tdR5Lf</td>\n",
       "    </tr>\n",
       "    <tr>\n",
       "      <th>3</th>\n",
       "      <td>Lofi Fruits Music 2021</td>\n",
       "      <td>Lofi Fruits Music</td>\n",
       "      <td>7 Years</td>\n",
       "      <td>2JjwQsLvMknwKhMRbdC7Mb</td>\n",
       "      <td>52</td>\n",
       "      <td>False</td>\n",
       "      <td>1dABGukgZ8XKKOdd2rVSHM</td>\n",
       "    </tr>\n",
       "    <tr>\n",
       "      <th>4</th>\n",
       "      <td>Vai Lá Em Casa Hoje</td>\n",
       "      <td>George Henrique &amp; Rodrigo</td>\n",
       "      <td>Vai Lá Em Casa Hoje</td>\n",
       "      <td>2wSCalnGOnXdAJC0Fn8OUY</td>\n",
       "      <td>81</td>\n",
       "      <td>False</td>\n",
       "      <td>3FlCKtwOEYQQYyGVEbxG2Z</td>\n",
       "    </tr>\n",
       "  </tbody>\n",
       "</table>\n",
       "</div>"
      ],
      "text/plain": [
       "                                          album_name  \\\n",
       "0                                 Molhando o Volante   \n",
       "1  Merry Christmas and Happy New Year 2021 (Radio...   \n",
       "2                                         Malvadão 3   \n",
       "3                             Lofi Fruits Music 2021   \n",
       "4                                Vai Lá Em Casa Hoje   \n",
       "\n",
       "                 artist_name  \\\n",
       "0             Jorge & Mateus   \n",
       "1                  Dj Biffen   \n",
       "2                       Xamã   \n",
       "3          Lofi Fruits Music   \n",
       "4  George Henrique & Rodrigo   \n",
       "\n",
       "                                          track_name                track_id  \\\n",
       "0                                 Molhando o Volante  3ITkrUvAA6gzxer2UIom3P   \n",
       "1  Merry Christmas and Happy New Year 2021 - Radi...  7h7yPyss4MIBVPXVeF83vg   \n",
       "2                                         Malvadão 3  0NBgyml7T0IvUNbXIkcSpH   \n",
       "3                                            7 Years  2JjwQsLvMknwKhMRbdC7Mb   \n",
       "4                                Vai Lá Em Casa Hoje  2wSCalnGOnXdAJC0Fn8OUY   \n",
       "\n",
       "   track_popularity  explicit               artist_id  \n",
       "0                82     False  1elUiq4X7pxej6FRlrEzjM  \n",
       "1                23      True  7K54lZmkO9dwqe22N27ftb  \n",
       "2                82     False  5YwzDz4RJfTiMHS4tdR5Lf  \n",
       "3                52     False  1dABGukgZ8XKKOdd2rVSHM  \n",
       "4                81     False  3FlCKtwOEYQQYyGVEbxG2Z  "
      ]
     },
     "execution_count": 7,
     "metadata": {},
     "output_type": "execute_result"
    }
   ],
   "source": [
    "track_df.head()"
   ]
  },
  {
   "cell_type": "code",
   "execution_count": 8,
   "id": "1d2a9430",
   "metadata": {
    "execution": {
     "iopub.execute_input": "2022-06-11T19:58:28.468964Z",
     "iopub.status.busy": "2022-06-11T19:58:28.468345Z",
     "iopub.status.idle": "2022-06-11T19:58:28.479546Z",
     "shell.execute_reply": "2022-06-11T19:58:28.478868Z"
    },
    "id": "tK3b7gLcHJol",
    "papermill": {
     "duration": 0.019003,
     "end_time": "2022-06-11T19:58:28.481419",
     "exception": false,
     "start_time": "2022-06-11T19:58:28.462416",
     "status": "completed"
    },
    "tags": []
   },
   "outputs": [
    {
     "data": {
      "text/plain": [
       "album_name          1000\n",
       "artist_name         1000\n",
       "track_name          1000\n",
       "track_id            1000\n",
       "track_popularity    1000\n",
       "explicit            1000\n",
       "artist_id           1000\n",
       "dtype: int64"
      ]
     },
     "execution_count": 8,
     "metadata": {},
     "output_type": "execute_result"
    }
   ],
   "source": [
    "track_df.count()"
   ]
  },
  {
   "cell_type": "code",
   "execution_count": 9,
   "id": "95c368c5",
   "metadata": {
    "execution": {
     "iopub.execute_input": "2022-06-11T19:58:28.492950Z",
     "iopub.status.busy": "2022-06-11T19:58:28.492274Z",
     "iopub.status.idle": "2022-06-11T20:00:03.949914Z",
     "shell.execute_reply": "2022-06-11T20:00:03.948988Z"
    },
    "papermill": {
     "duration": 95.466346,
     "end_time": "2022-06-11T20:00:03.952471",
     "exception": false,
     "start_time": "2022-06-11T19:58:28.486125",
     "status": "completed"
    },
    "tags": []
   },
   "outputs": [],
   "source": [
    "artist_popularity = []\n",
    "artist_genres = []\n",
    "artist_followers = []\n",
    "for a_id in track_df.artist_id:\n",
    "  artist = sp.artist(a_id)\n",
    "  artist_popularity.append(artist['popularity'])\n",
    "  artist_genres.append(artist['genres'])\n",
    "  artist_followers.append(artist['followers']['total'])"
   ]
  },
  {
   "cell_type": "code",
   "execution_count": null,
   "id": "a4005ad0",
   "metadata": {
    "papermill": {
     "duration": 0.004592,
     "end_time": "2022-06-11T20:00:03.961972",
     "exception": false,
     "start_time": "2022-06-11T20:00:03.957380",
     "status": "completed"
    },
    "tags": []
   },
   "outputs": [],
   "source": []
  }
 ],
 "metadata": {
  "kernelspec": {
   "display_name": "Python 3",
   "language": "python",
   "name": "python3"
  },
  "language_info": {
   "codemirror_mode": {
    "name": "ipython",
    "version": 3
   },
   "file_extension": ".py",
   "mimetype": "text/x-python",
   "name": "python",
   "nbconvert_exporter": "python",
   "pygments_lexer": "ipython3",
   "version": "3.7.12"
  },
  "papermill": {
   "default_parameters": {},
   "duration": 122.717637,
   "end_time": "2022-06-11T20:00:04.586130",
   "environment_variables": {},
   "exception": null,
   "input_path": "__notebook__.ipynb",
   "output_path": "__notebook__.ipynb",
   "parameters": {},
   "start_time": "2022-06-11T19:58:01.868493",
   "version": "2.3.4"
  }
 },
 "nbformat": 4,
 "nbformat_minor": 5
}

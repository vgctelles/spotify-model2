{
  "nbformat": 4,
  "nbformat_minor": 0,
  "metadata": {
    "colab": {
      "name": "spotify_data_scrap.ipynb",
      "provenance": [],
      "authorship_tag": "ABX9TyOF07GgOSUev9ze2c21axdZ",
      "include_colab_link": true
    },
    "kernelspec": {
      "name": "python3",
      "display_name": "Python 3"
    },
    "language_info": {
      "name": "python"
    }
  },
  "cells": [
    {
      "cell_type": "markdown",
      "metadata": {
        "id": "view-in-github",
        "colab_type": "text"
      },
      "source": [
        "<a href=\"https://colab.research.google.com/github/vgctelles/spotify-model2/blob/main/spotify_data_scrap.ipynb\" target=\"_parent\"><img src=\"https://colab.research.google.com/assets/colab-badge.svg\" alt=\"Open In Colab\"/></a>"
      ]
    },
    {
      "cell_type": "code",
      "source": [
        "pip install spotipy"
      ],
      "metadata": {
        "id": "OE4UmPk_Drnb"
      },
      "execution_count": null,
      "outputs": []
    },
    {
      "cell_type": "code",
      "execution_count": 3,
      "metadata": {
        "id": "xIrRTClXDcsC"
      },
      "outputs": [],
      "source": [
        "import pandas as pd\n",
        "import spotipy\n",
        "from spotipy.oauth2 import SpotifyClientCredentials"
      ]
    },
    {
      "cell_type": "code",
      "source": [
        "CLIENT_ID = 'dcdbc364b650420ba00c3fbcca957a4f'\n",
        "CLIENT_SECRET = '381f0fa966784f4e92b37134958856d4'"
      ],
      "metadata": {
        "id": "1VlU3Z_qDixM"
      },
      "execution_count": 4,
      "outputs": []
    },
    {
      "cell_type": "code",
      "source": [
        "client_credentials_manager = SpotifyClientCredentials(client_id=CLIENT_ID, client_secret=CLIENT_SECRET)\n",
        "sp = spotipy.Spotify(client_credentials_manager=client_credentials_manager)"
      ],
      "metadata": {
        "id": "wTFo_ysPDpIO"
      },
      "execution_count": 5,
      "outputs": []
    },
    {
      "cell_type": "code",
      "source": [
        "#test 500 music data scrap\n",
        "\n",
        "artist_name = []\n",
        "track_name = []\n",
        "track_popularity = []\n",
        "track_explicity = []\n",
        "artist_id = []\n",
        "track_id = []\n",
        "album_name = []\n",
        "album_id = []\n",
        "for i in range(0,500,50):\n",
        "    track_results = sp.search(q='year:2021', type='track', limit=50,offset=i)\n",
        "    for i, t in enumerate(track_results['tracks']['items']):\n",
        "        album_name.append(t['album']['name'])\n",
        "        album_id.append(t['album']['id'])\n",
        "        artist_name.append(t['artists'][0]['name'])\n",
        "        artist_id.append(t['artists'][0]['id'])\n",
        "        track_name.append(t['name'])\n",
        "        track_id.append(t['id'])\n",
        "        track_popularity.append(t['popularity'])\n",
        "        track_explicity.append(t['explicit'])"
      ],
      "metadata": {
        "id": "KgyBDZ5RFCdJ"
      },
      "execution_count": 6,
      "outputs": []
    },
    {
      "cell_type": "code",
      "source": [
        ""
      ],
      "metadata": {
        "id": "0UXUyECOFFOI"
      },
      "execution_count": null,
      "outputs": []
    }
  ]
}
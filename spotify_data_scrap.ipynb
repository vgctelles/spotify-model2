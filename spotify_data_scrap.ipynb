{
  "nbformat": 4,
  "nbformat_minor": 0,
  "metadata": {
    "colab": {
      "name": "spotify_data_scrap.ipynb",
      "provenance": [],
      "collapsed_sections": [],
      "authorship_tag": "ABX9TyOCEyyMy39ogtluXvdgLey3",
      "include_colab_link": true
    },
    "kernelspec": {
      "name": "python3",
      "display_name": "Python 3"
    },
    "language_info": {
      "name": "python"
    }
  },
  "cells": [
    {
      "cell_type": "markdown",
      "metadata": {
        "id": "view-in-github",
        "colab_type": "text"
      },
      "source": [
        "<a href=\"https://colab.research.google.com/github/vgctelles/spotify-model2/blob/main/spotify_data_scrap.ipynb\" target=\"_parent\"><img src=\"https://colab.research.google.com/assets/colab-badge.svg\" alt=\"Open In Colab\"/></a>"
      ]
    },
    {
      "cell_type": "code",
      "source": [
        "pip install spotipy"
      ],
      "metadata": {
        "id": "OE4UmPk_Drnb"
      },
      "execution_count": null,
      "outputs": []
    },
    {
      "cell_type": "code",
      "execution_count": 3,
      "metadata": {
        "id": "xIrRTClXDcsC"
      },
      "outputs": [],
      "source": [
        "import pandas as pd\n",
        "import spotipy\n",
        "from spotipy.oauth2 import SpotifyClientCredentials"
      ]
    },
    {
      "cell_type": "code",
      "source": [
        "CLIENT_ID = 'dcdbc364b650420ba00c3fbcca957a4f'\n",
        "CLIENT_SECRET = '381f0fa966784f4e92b37134958856d4'"
      ],
      "metadata": {
        "id": "1VlU3Z_qDixM"
      },
      "execution_count": 4,
      "outputs": []
    },
    {
      "cell_type": "code",
      "source": [
        "client_credentials_manager = SpotifyClientCredentials(client_id=CLIENT_ID, client_secret=CLIENT_SECRET)\n",
        "sp = spotipy.Spotify(client_credentials_manager=client_credentials_manager)"
      ],
      "metadata": {
        "id": "wTFo_ysPDpIO"
      },
      "execution_count": 5,
      "outputs": []
    },
    {
      "cell_type": "code",
      "source": [
        "#test 500 music data scrap\n",
        "\n",
        "artist_name = []\n",
        "track_name = []\n",
        "track_popularity = []\n",
        "track_explicity = []\n",
        "artist_id = []\n",
        "track_id = []\n",
        "album_name = []\n",
        "album_id = []\n",
        "for i in range(0,500,50):\n",
        "    track_results = sp.search(q='year:2021', type='track', limit=50,offset=i)\n",
        "    for i, t in enumerate(track_results['tracks']['items']):\n",
        "        album_name.append(t['album']['name'])\n",
        "        album_id.append(t['album']['id'])\n",
        "        artist_name.append(t['artists'][0]['name'])\n",
        "        artist_id.append(t['artists'][0]['id'])\n",
        "        track_name.append(t['name'])\n",
        "        track_id.append(t['id'])\n",
        "        track_popularity.append(t['popularity'])\n",
        "        track_explicity.append(t['explicit'])"
      ],
      "metadata": {
        "id": "KgyBDZ5RFCdJ"
      },
      "execution_count": 7,
      "outputs": []
    },
    {
      "cell_type": "code",
      "source": [
        "track_df = pd.DataFrame({'album_name' : album_name,'artist_name' : artist_name, 'track_name' : track_name, 'track_id' : track_id, 'track_popularity' : track_popularity, 'explicit' : track_explicity, 'artist_id' : artist_id})\n",
        "print(track_df.shape)"
      ],
      "metadata": {
        "colab": {
          "base_uri": "https://localhost:8080/"
        },
        "id": "0UXUyECOFFOI",
        "outputId": "cc5f1c29-f3b8-457f-d837-d36ba0538ab8"
      },
      "execution_count": 8,
      "outputs": [
        {
          "output_type": "stream",
          "name": "stdout",
          "text": [
            "(500, 7)\n"
          ]
        }
      ]
    },
    {
      "cell_type": "code",
      "source": [
        "track_df.head()"
      ],
      "metadata": {
        "colab": {
          "base_uri": "https://localhost:8080/",
          "height": 250
        },
        "id": "t1IDfMVOHCYR",
        "outputId": "4f06c148-c5b4-414c-d929-327cf2cc04a2"
      },
      "execution_count": 9,
      "outputs": [
        {
          "output_type": "execute_result",
          "data": {
            "text/plain": [
              "                          album_name                       artist_name  \\\n",
              "0                         Planet Her                          Doja Cat   \n",
              "1               LIFE (2021 Remaster)                          Mr.Kitty   \n",
              "2                               SOUR                    Olivia Rodrigo   \n",
              "3  This Year's Model (2021 Remaster)  Elvis Costello & The Attractions   \n",
              "4        Dangerous: The Double Album                     Morgan Wallen   \n",
              "\n",
              "                   track_name                track_id  track_popularity  \\\n",
              "0                       Woman  6Uj1ctrBOjOas8xZXGqKk4                91   \n",
              "1       Years - 2021 Remaster  4S4ZY1yKo3WUtzsg3O6hcf                22   \n",
              "2                    good 4 u  4ZtFanR9U6ndgddUvNcjcG                90   \n",
              "3  Pump It Up - 2021 Remaster  3oyc1mIdCBGaU55wX7otqM                61   \n",
              "4               Wasted On You  3cBsEDNhFI9E82vPj3kvi3                82   \n",
              "\n",
              "   explicit               artist_id  \n",
              "0      True  5cj0lLjcoR7YOSnhnX0Po5  \n",
              "1     False  0pWwt5vGNzezEhfAcc420Y  \n",
              "2      True  1McMsnEElThX1knmY4oliG  \n",
              "3     False  4qmHkMxr6pTWh5Zo74odpH  \n",
              "4     False  4oUHIQIBe0LHzYfvXNW4QM  "
            ],
            "text/html": [
              "\n",
              "  <div id=\"df-404f17a7-1a9d-4d05-8d9e-80e39ca8dbd3\">\n",
              "    <div class=\"colab-df-container\">\n",
              "      <div>\n",
              "<style scoped>\n",
              "    .dataframe tbody tr th:only-of-type {\n",
              "        vertical-align: middle;\n",
              "    }\n",
              "\n",
              "    .dataframe tbody tr th {\n",
              "        vertical-align: top;\n",
              "    }\n",
              "\n",
              "    .dataframe thead th {\n",
              "        text-align: right;\n",
              "    }\n",
              "</style>\n",
              "<table border=\"1\" class=\"dataframe\">\n",
              "  <thead>\n",
              "    <tr style=\"text-align: right;\">\n",
              "      <th></th>\n",
              "      <th>album_name</th>\n",
              "      <th>artist_name</th>\n",
              "      <th>track_name</th>\n",
              "      <th>track_id</th>\n",
              "      <th>track_popularity</th>\n",
              "      <th>explicit</th>\n",
              "      <th>artist_id</th>\n",
              "    </tr>\n",
              "  </thead>\n",
              "  <tbody>\n",
              "    <tr>\n",
              "      <th>0</th>\n",
              "      <td>Planet Her</td>\n",
              "      <td>Doja Cat</td>\n",
              "      <td>Woman</td>\n",
              "      <td>6Uj1ctrBOjOas8xZXGqKk4</td>\n",
              "      <td>91</td>\n",
              "      <td>True</td>\n",
              "      <td>5cj0lLjcoR7YOSnhnX0Po5</td>\n",
              "    </tr>\n",
              "    <tr>\n",
              "      <th>1</th>\n",
              "      <td>LIFE (2021 Remaster)</td>\n",
              "      <td>Mr.Kitty</td>\n",
              "      <td>Years - 2021 Remaster</td>\n",
              "      <td>4S4ZY1yKo3WUtzsg3O6hcf</td>\n",
              "      <td>22</td>\n",
              "      <td>False</td>\n",
              "      <td>0pWwt5vGNzezEhfAcc420Y</td>\n",
              "    </tr>\n",
              "    <tr>\n",
              "      <th>2</th>\n",
              "      <td>SOUR</td>\n",
              "      <td>Olivia Rodrigo</td>\n",
              "      <td>good 4 u</td>\n",
              "      <td>4ZtFanR9U6ndgddUvNcjcG</td>\n",
              "      <td>90</td>\n",
              "      <td>True</td>\n",
              "      <td>1McMsnEElThX1knmY4oliG</td>\n",
              "    </tr>\n",
              "    <tr>\n",
              "      <th>3</th>\n",
              "      <td>This Year's Model (2021 Remaster)</td>\n",
              "      <td>Elvis Costello &amp; The Attractions</td>\n",
              "      <td>Pump It Up - 2021 Remaster</td>\n",
              "      <td>3oyc1mIdCBGaU55wX7otqM</td>\n",
              "      <td>61</td>\n",
              "      <td>False</td>\n",
              "      <td>4qmHkMxr6pTWh5Zo74odpH</td>\n",
              "    </tr>\n",
              "    <tr>\n",
              "      <th>4</th>\n",
              "      <td>Dangerous: The Double Album</td>\n",
              "      <td>Morgan Wallen</td>\n",
              "      <td>Wasted On You</td>\n",
              "      <td>3cBsEDNhFI9E82vPj3kvi3</td>\n",
              "      <td>82</td>\n",
              "      <td>False</td>\n",
              "      <td>4oUHIQIBe0LHzYfvXNW4QM</td>\n",
              "    </tr>\n",
              "  </tbody>\n",
              "</table>\n",
              "</div>\n",
              "      <button class=\"colab-df-convert\" onclick=\"convertToInteractive('df-404f17a7-1a9d-4d05-8d9e-80e39ca8dbd3')\"\n",
              "              title=\"Convert this dataframe to an interactive table.\"\n",
              "              style=\"display:none;\">\n",
              "        \n",
              "  <svg xmlns=\"http://www.w3.org/2000/svg\" height=\"24px\"viewBox=\"0 0 24 24\"\n",
              "       width=\"24px\">\n",
              "    <path d=\"M0 0h24v24H0V0z\" fill=\"none\"/>\n",
              "    <path d=\"M18.56 5.44l.94 2.06.94-2.06 2.06-.94-2.06-.94-.94-2.06-.94 2.06-2.06.94zm-11 1L8.5 8.5l.94-2.06 2.06-.94-2.06-.94L8.5 2.5l-.94 2.06-2.06.94zm10 10l.94 2.06.94-2.06 2.06-.94-2.06-.94-.94-2.06-.94 2.06-2.06.94z\"/><path d=\"M17.41 7.96l-1.37-1.37c-.4-.4-.92-.59-1.43-.59-.52 0-1.04.2-1.43.59L10.3 9.45l-7.72 7.72c-.78.78-.78 2.05 0 2.83L4 21.41c.39.39.9.59 1.41.59.51 0 1.02-.2 1.41-.59l7.78-7.78 2.81-2.81c.8-.78.8-2.07 0-2.86zM5.41 20L4 18.59l7.72-7.72 1.47 1.35L5.41 20z\"/>\n",
              "  </svg>\n",
              "      </button>\n",
              "      \n",
              "  <style>\n",
              "    .colab-df-container {\n",
              "      display:flex;\n",
              "      flex-wrap:wrap;\n",
              "      gap: 12px;\n",
              "    }\n",
              "\n",
              "    .colab-df-convert {\n",
              "      background-color: #E8F0FE;\n",
              "      border: none;\n",
              "      border-radius: 50%;\n",
              "      cursor: pointer;\n",
              "      display: none;\n",
              "      fill: #1967D2;\n",
              "      height: 32px;\n",
              "      padding: 0 0 0 0;\n",
              "      width: 32px;\n",
              "    }\n",
              "\n",
              "    .colab-df-convert:hover {\n",
              "      background-color: #E2EBFA;\n",
              "      box-shadow: 0px 1px 2px rgba(60, 64, 67, 0.3), 0px 1px 3px 1px rgba(60, 64, 67, 0.15);\n",
              "      fill: #174EA6;\n",
              "    }\n",
              "\n",
              "    [theme=dark] .colab-df-convert {\n",
              "      background-color: #3B4455;\n",
              "      fill: #D2E3FC;\n",
              "    }\n",
              "\n",
              "    [theme=dark] .colab-df-convert:hover {\n",
              "      background-color: #434B5C;\n",
              "      box-shadow: 0px 1px 3px 1px rgba(0, 0, 0, 0.15);\n",
              "      filter: drop-shadow(0px 1px 2px rgba(0, 0, 0, 0.3));\n",
              "      fill: #FFFFFF;\n",
              "    }\n",
              "  </style>\n",
              "\n",
              "      <script>\n",
              "        const buttonEl =\n",
              "          document.querySelector('#df-404f17a7-1a9d-4d05-8d9e-80e39ca8dbd3 button.colab-df-convert');\n",
              "        buttonEl.style.display =\n",
              "          google.colab.kernel.accessAllowed ? 'block' : 'none';\n",
              "\n",
              "        async function convertToInteractive(key) {\n",
              "          const element = document.querySelector('#df-404f17a7-1a9d-4d05-8d9e-80e39ca8dbd3');\n",
              "          const dataTable =\n",
              "            await google.colab.kernel.invokeFunction('convertToInteractive',\n",
              "                                                     [key], {});\n",
              "          if (!dataTable) return;\n",
              "\n",
              "          const docLinkHtml = 'Like what you see? Visit the ' +\n",
              "            '<a target=\"_blank\" href=https://colab.research.google.com/notebooks/data_table.ipynb>data table notebook</a>'\n",
              "            + ' to learn more about interactive tables.';\n",
              "          element.innerHTML = '';\n",
              "          dataTable['output_type'] = 'display_data';\n",
              "          await google.colab.output.renderOutput(dataTable, element);\n",
              "          const docLink = document.createElement('div');\n",
              "          docLink.innerHTML = docLinkHtml;\n",
              "          element.appendChild(docLink);\n",
              "        }\n",
              "      </script>\n",
              "    </div>\n",
              "  </div>\n",
              "  "
            ]
          },
          "metadata": {},
          "execution_count": 9
        }
      ]
    },
    {
      "cell_type": "code",
      "source": [
        ""
      ],
      "metadata": {
        "id": "tK3b7gLcHJol"
      },
      "execution_count": null,
      "outputs": []
    }
  ]
}